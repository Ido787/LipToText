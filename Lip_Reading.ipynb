{
  "cells": [
    {
      "cell_type": "markdown",
      "metadata": {
        "id": "view-in-github",
        "colab_type": "text"
      },
      "source": [
        "<a href=\"https://colab.research.google.com/github/Ido787/ReadMyLips/blob/develop/Lip_Reading.ipynb\" target=\"_parent\"><img src=\"https://colab.research.google.com/assets/colab-badge.svg\" alt=\"Open In Colab\"/></a>"
      ]
    },
    {
      "cell_type": "markdown",
      "metadata": {
        "id": "a3573a47-3689-4668-b62f-5c8451b2b4e9"
      },
      "source": [
        "# Install and Import Dependencies"
      ],
      "id": "a3573a47-3689-4668-b62f-5c8451b2b4e9"
    },
    {
      "cell_type": "code",
      "execution_count": null,
      "metadata": {
        "id": "b24af50c-20b8-409d-ad78-30a933fdd669"
      },
      "outputs": [],
      "source": [
        "import os\n",
        "import cv2\n",
        "import tensorflow as tf\n",
        "import numpy as np\n",
        "from typing import List\n",
        "from matplotlib import pyplot as plt\n",
        "import imageio\n",
        "import gdown\n",
        "import tempfile\n",
        "import shutil\n",
        "from matplotlib import pyplot as plt\n",
        "from keras.models import Sequential \n",
        "from keras.layers import Conv3D, LSTM, Dense, Dropout, Bidirectional, MaxPool3D, Activation, Reshape, SpatialDropout3D, BatchNormalization, TimeDistributed, Flatten\n",
        "from keras.optimizers import Adam\n",
        "from keras.callbacks import ModelCheckpoint, LearningRateScheduler\n",
        "from google.colab.patches import cv2_imshow"
      ],
      "id": "b24af50c-20b8-409d-ad78-30a933fdd669"
    },
    {
      "cell_type": "markdown",
      "metadata": {
        "id": "-vzjaNn5k4e2"
      },
      "source": [
        "# Configurations"
      ],
      "id": "-vzjaNn5k4e2"
    },
    {
      "cell_type": "code",
      "execution_count": null,
      "metadata": {
        "id": "onaNysDyk8Ca"
      },
      "outputs": [],
      "source": [
        "selected_speakers = [1]\n",
        "data_dir = '/content/data'"
      ],
      "id": "onaNysDyk8Ca"
    },
    {
      "cell_type": "markdown",
      "metadata": {
        "id": "7a19e88e-c7b9-45c1-ae1e-f2109329c71b"
      },
      "source": [
        "# Build Data Loading Functions"
      ],
      "id": "7a19e88e-c7b9-45c1-ae1e-f2109329c71b"
    },
    {
      "cell_type": "markdown",
      "metadata": {
        "id": "bAtn7nOKr_aD"
      },
      "source": [
        "Download the speakers from the dataset"
      ],
      "id": "bAtn7nOKr_aD"
    },
    {
      "cell_type": "code",
      "execution_count": null,
      "metadata": {
        "colab": {
          "base_uri": "https://localhost:8080/"
        },
        "id": "5ynvWGHLy5Vy",
        "outputId": "41ed7c54-c350-4661-f9a6-98cabe66cc24"
      },
      "outputs": [
        {
          "output_type": "stream",
          "name": "stdout",
          "text": [
            "Downloading speaker 1:\n",
            "Downloading data from https://spandh.dcs.shef.ac.uk/gridcorpus/s1/align/s1.tar\n",
            "1034240/1034240 [==============================] - 1s 1us/step\n",
            "Downloading data from https://spandh.dcs.shef.ac.uk/gridcorpus/s1/video/s1.mpg_vcd.zip\n",
            "422746353/422746353 [==============================] - 46s 0us/step\n"
          ]
        }
      ],
      "source": [
        "invalid_speakers = [21]\n",
        "base_dataset_URL = 'https://spandh.dcs.shef.ac.uk/gridcorpus'\n",
        "alignment_dir = f'{data_dir}/alignments'\n",
        "videos_dir = f'{data_dir}/videos'\n",
        "\n",
        "# Define the URLs for getting the data\n",
        "get_videos_url = lambda speaker_index : f'{base_dataset_URL}/s{speaker_index}/video/s{speaker_index}.mpg_vcd.zip'\n",
        "get_alignments_url = lambda speaker_index : f'{base_dataset_URL}/s{speaker_index}/align/s{speaker_index}.tar'\n",
        "\n",
        "\n",
        "# Filter all the selected speakers\n",
        "speakers = [speaker for speaker in selected_speakers if speaker not in invalid_speakers]\n",
        "\n",
        "# If the alignments or the videos folder were not created\n",
        "if not (os.path.isdir(alignment_dir) or os.path.isdir(videos_dir)):\n",
        "  with tempfile.TemporaryDirectory() as tmpdir:\n",
        "    for speaker_index in speakers:\n",
        "      print(f'Downloading speaker {speaker_index}:')\n",
        "      \n",
        "      alignments_path = f'alignments/s{speaker_index}'\n",
        "      tf.keras.utils.get_file(None, get_alignments_url(speaker_index), extract=True,\n",
        "                                      cache_dir=tmpdir, cache_subdir = alignments_path)    \n",
        "      shutil.move(f'{tmpdir}/{alignments_path}/align', f'{alignment_dir}/s{speaker_index}')\n",
        "\n",
        "      tf.keras.utils.get_file(None, get_videos_url(speaker_index), extract=True,\n",
        "                                      cache_dir=tmpdir, cache_subdir = 'videos')    \n",
        "      shutil.move(f'{tmpdir}/videos/s{speaker_index}', f'{videos_dir}/s{speaker_index}')"
      ],
      "id": "5ynvWGHLy5Vy"
    },
    {
      "cell_type": "markdown",
      "source": [
        "defining the mouth detection model"
      ],
      "metadata": {
        "id": "Ryw5ObyrVkR2"
      },
      "id": "Ryw5ObyrVkR2"
    },
    {
      "cell_type": "code",
      "source": [
        "!gdown 1OjyocXqGSoNB0HS_PhAE4j2G5YVpwBky\n",
        "mouth_cascade = cv2.CascadeClassifier('./haarcascade_mcs_mouth.xml')\n",
        "\n",
        "if mouth_cascade.empty():\n",
        "  raise IOError('Unable to load the mouth cascade classifier xml file')"
      ],
      "metadata": {
        "id": "pCxJU1skVgAJ",
        "colab": {
          "base_uri": "https://localhost:8080/"
        },
        "outputId": "50b84630-8a3f-48ae-a97b-7c8149897464"
      },
      "id": "pCxJU1skVgAJ",
      "execution_count": null,
      "outputs": [
        {
          "output_type": "stream",
          "name": "stdout",
          "text": [
            "Downloading...\n",
            "From: https://drive.google.com/uc?id=1OjyocXqGSoNB0HS_PhAE4j2G5YVpwBky\n",
            "To: /content/haarcascade_mcs_mouth.xml\n",
            "\r  0% 0.00/742k [00:00<?, ?B/s]\r100% 742k/742k [00:00<00:00, 188MB/s]\n"
          ]
        }
      ]
    },
    {
      "cell_type": "markdown",
      "metadata": {
        "id": "ZGJJJ6l7QD9p"
      },
      "source": [
        "A function to cut the mouth area of a frame using detection model"
      ],
      "id": "ZGJJJ6l7QD9p"
    },
    {
      "cell_type": "code",
      "execution_count": null,
      "metadata": {
        "id": "bDhY8dZnAGUi"
      },
      "outputs": [],
      "source": [
        "def crop_mouth_in_frame(frame):\n",
        "  ds_factor = 1\n",
        "  frame = cv2.resize(frame, None, fx=ds_factor, fy=ds_factor, interpolation=cv2.INTER_AREA)\n",
        "  gray = cv2.cvtColor(frame, cv2.COLOR_BGR2GRAY)\n",
        "\n",
        "  mouth_rects = mouth_cascade.detectMultiScale(gray, 1.7, 11)\n",
        "\n",
        "  for (x,y,w,h) in mouth_rects:\n",
        "      y = int(y - 0.5*h)\n",
        "      # h = 50\n",
        "      # w = 75\n",
        "      break\n",
        "  frame_cut = frame[y:y+h,x:x+w]\n",
        "\n",
        "  return frame_cut"
      ],
      "id": "bDhY8dZnAGUi"
    },
    {
      "cell_type": "markdown",
      "metadata": {
        "id": "9zkyzam9sFwW"
      },
      "source": [
        "Crop and preprocess the video"
      ],
      "id": "9zkyzam9sFwW"
    },
    {
      "cell_type": "code",
      "execution_count": null,
      "metadata": {
        "id": "6cIZJERtmo6g"
      },
      "outputs": [],
      "source": [
        "height_crop = slice(190, 236)\n",
        "width_crop = slice(80, 220)\n",
        "\n",
        "# I replaced this function with mine\n",
        "def crop_frame(frames):\n",
        "  return frames[height_crop, width_crop, :]\n",
        "\n",
        "# you didnt use this function\n",
        "def preprocess_frame(frame):\n",
        "  new_frame = tf.image.rgb_to_grayscale(frame)"
      ],
      "id": "6cIZJERtmo6g"
    },
    {
      "cell_type": "code",
      "execution_count": null,
      "metadata": {
        "id": "8548cc59-6dfc-4acc-abc3-3e65212db02e"
      },
      "outputs": [],
      "source": [
        "def load_video(path: str) -> List[float]: \n",
        "      cap = cv2.VideoCapture(path)\n",
        "      frames_count = int(cap.get(cv2.CAP_PROP_FRAME_COUNT))\n",
        "\n",
        "      # Preprocessing\n",
        "      frames = []\n",
        "\n",
        "      for _ in range(frames_count): \n",
        "          ret, frame = cap.read()\n",
        "          frame = crop_mouth_in_frame(frame)\n",
        "          # frame = crop_frame(frame)\n",
        "          frame = tf.image.rgb_to_grayscale(frame)\n",
        "\n",
        "          frames.append(frame)\n",
        "\n",
        "      cap.release()\n",
        "      \n",
        "      # Normalize the frames (mean centering)\n",
        "      mean = tf.math.reduce_mean(frames)\n",
        "      std = tf.math.reduce_std(tf.cast(frames, tf.float32))\n",
        "\n",
        "      return tf.cast((frames - mean), tf.float32) / std"
      ],
      "id": "8548cc59-6dfc-4acc-abc3-3e65212db02e"
    },
    {
      "cell_type": "markdown",
      "metadata": {
        "id": "sktKzQDssN_M"
      },
      "source": [
        "Create the vocabulary for the alignments"
      ],
      "id": "sktKzQDssN_M"
    },
    {
      "cell_type": "code",
      "execution_count": null,
      "metadata": {
        "id": "ec735e0b-ec98-4eb0-8f49-c35527d6670a"
      },
      "outputs": [],
      "source": [
        "vocab = [x for x in \"abcdefghijklmnopqrstuvwxyz'?!123456789 \"]"
      ],
      "id": "ec735e0b-ec98-4eb0-8f49-c35527d6670a"
    },
    {
      "cell_type": "code",
      "execution_count": null,
      "metadata": {
        "id": "be04e972-d7a5-4a72-82d8-a6bdde1f3ce6"
      },
      "outputs": [],
      "source": [
        "oov_token=\"\"\n",
        "\n",
        "# This adds an extra character to the vocab - oov (out of vocabulary) token\n",
        "char_to_num = tf.keras.layers.StringLookup(vocabulary=vocab, oov_token=oov_token)\n",
        "\n",
        "num_to_char = tf.keras.layers.StringLookup(\n",
        "    vocabulary=char_to_num.get_vocabulary(), oov_token=oov_token, invert=True\n",
        ")\n",
        "\n",
        "vocab_size = char_to_num.vocabulary_size()"
      ],
      "id": "be04e972-d7a5-4a72-82d8-a6bdde1f3ce6"
    },
    {
      "cell_type": "code",
      "execution_count": null,
      "metadata": {
        "colab": {
          "base_uri": "https://localhost:8080/"
        },
        "id": "797ff78b-b48f-4e14-bb62-8cd0ebf9501a",
        "outputId": "27908624-3d90-4b4a-9050-4de44c16225f"
      },
      "outputs": [
        {
          "output_type": "execute_result",
          "data": {
            "text/plain": [
              "array([ 8,  1,  2,  1, 14,  9])"
            ]
          },
          "metadata": {},
          "execution_count": 10
        }
      ],
      "source": [
        "sample_word = \"habani\"\n",
        "encoded = char_to_num([*sample_word])\n",
        "\n",
        "encoded.numpy()"
      ],
      "id": "797ff78b-b48f-4e14-bb62-8cd0ebf9501a"
    },
    {
      "cell_type": "code",
      "execution_count": null,
      "metadata": {
        "colab": {
          "base_uri": "https://localhost:8080/"
        },
        "id": "8cd7f4f4-ae77-4509-a4f4-c723787ebad1",
        "outputId": "13f38066-11f0-42cc-f507-28b155c78dcc"
      },
      "outputs": [
        {
          "output_type": "stream",
          "name": "stdout",
          "text": [
            "habani\n"
          ]
        }
      ],
      "source": [
        "decoded = num_to_char(encoded)\n",
        "\n",
        "print(\"\".join([bytes.decode(char) for char in decoded.numpy()]))"
      ],
      "id": "8cd7f4f4-ae77-4509-a4f4-c723787ebad1"
    },
    {
      "cell_type": "code",
      "execution_count": null,
      "metadata": {
        "id": "9491bab5-6a3c-4f79-879a-8f9fbe73ae2e"
      },
      "outputs": [],
      "source": [
        "special_token = 'sil'\n",
        "\n",
        "def load_alignments(path: str) -> List[str]: \n",
        "    with open(path, 'r') as f: \n",
        "        lines = f.readlines() \n",
        "    \n",
        "    tokens = []\n",
        "\n",
        "    # Extract an array of words seperated by space from the alignment file\n",
        "    for line in lines:\n",
        "        start, end, token = line.split()\n",
        "        \n",
        "        if token != special_token: \n",
        "            tokens = [*tokens, ' ', token]\n",
        "\n",
        "    return char_to_num(tf.reshape(tf.strings.unicode_split(tokens, input_encoding='UTF-8'), (-1)))[1:]"
      ],
      "id": "9491bab5-6a3c-4f79-879a-8f9fbe73ae2e"
    },
    {
      "cell_type": "code",
      "execution_count": null,
      "metadata": {
        "id": "dd01ca9f-77fb-4643-a2aa-47dd82c5d66b"
      },
      "outputs": [],
      "source": [
        "def load_data(video_path: str):\n",
        "    # Convert from tensor to string\n",
        "    video_path = bytes.decode(video_path.numpy())\n",
        "\n",
        "    alignment_path = video_path.replace(\"videos\", \"alignments\").replace(\"mpg\",\"align\")\n",
        "    \n",
        "    frames = load_video(video_path) \n",
        "    alignments = load_alignments(alignment_path)\n",
        "    \n",
        "    return frames, alignments"
      ],
      "id": "dd01ca9f-77fb-4643-a2aa-47dd82c5d66b"
    },
    {
      "cell_type": "markdown",
      "metadata": {
        "id": "lqQZQDoxkWMg"
      },
      "source": [
        "Test the data loading"
      ],
      "id": "lqQZQDoxkWMg"
    },
    {
      "cell_type": "code",
      "execution_count": null,
      "metadata": {
        "id": "8cb7cc58-31ae-4904-a805-1177a82717d2"
      },
      "outputs": [],
      "source": [
        "test_path = './data/videos/s1/bbaf2n.mpg'"
      ],
      "id": "8cb7cc58-31ae-4904-a805-1177a82717d2"
    },
    {
      "cell_type": "code",
      "execution_count": null,
      "metadata": {
        "id": "eb602c71-8560-4f9e-b26b-08202febb937",
        "scrolled": true
      },
      "outputs": [],
      "source": [
        "frames, alignments = load_data(tf.convert_to_tensor(test_path))"
      ],
      "id": "eb602c71-8560-4f9e-b26b-08202febb937"
    },
    {
      "cell_type": "code",
      "execution_count": null,
      "metadata": {
        "colab": {
          "base_uri": "https://localhost:8080/",
          "height": 445
        },
        "id": "0e3184a1-6b02-4b4f-84a8-a0a65f951ea2",
        "outputId": "a7ea50a1-66d5-4531-d107-c797a1e89429"
      },
      "outputs": [
        {
          "output_type": "execute_result",
          "data": {
            "text/plain": [
              "<tf.Tensor: shape=(21,), dtype=int64, numpy=\n",
              "array([ 2,  9, 14, 39,  2, 12, 21,  5, 39,  1, 20, 39,  6, 39, 20, 23, 15,\n",
              "       39, 14, 15, 23])>"
            ]
          },
          "metadata": {},
          "execution_count": 16
        },
        {
          "output_type": "display_data",
          "data": {
            "text/plain": [
              "<Figure size 640x480 with 1 Axes>"
            ],
            "image/png": "[encoded data removed]"
          },
          "metadata": {}
        }
      ],
      "source": [
        "plt.imshow(frames[71])\n",
        "alignments"
      ],
      "id": "0e3184a1-6b02-4b4f-84a8-a0a65f951ea2"
    },
    {
      "cell_type": "code",
      "execution_count": null,
      "metadata": {
        "colab": {
          "base_uri": "https://localhost:8080/"
        },
        "id": "fe1ad370-b287-4b46-85a2-7c45b0bd9b10",
        "outputId": "7c7002a0-7a02-4b5d-ee3e-e642e16c086a"
      },
      "outputs": [
        {
          "output_type": "execute_result",
          "data": {
            "text/plain": [
              "<tf.Tensor: shape=(), dtype=string, numpy=b'bin blue at f two now'>"
            ]
          },
          "metadata": {},
          "execution_count": 17
        }
      ],
      "source": [
        "tf.strings.reduce_join([bytes.decode(x) for x in num_to_char(alignments.numpy()).numpy()])"
      ],
      "id": "fe1ad370-b287-4b46-85a2-7c45b0bd9b10"
    },
    {
      "cell_type": "code",
      "execution_count": null,
      "metadata": {
        "id": "6871031a-b0ba-4c76-a852-f6329b0f2606"
      },
      "outputs": [],
      "source": [
        "# This is necessary since we might get a prefetch dataset\n",
        "# or something but we want to access the data eagerly\n",
        "def mappable_function(path: str) ->List[str]:\n",
        "    result = tf.py_function(load_data, [path], (tf.float32, tf.int64))\n",
        "    return result"
      ],
      "id": "6871031a-b0ba-4c76-a852-f6329b0f2606"
    },
    {
      "cell_type": "markdown",
      "metadata": {
        "id": "c40a7eb4-0c3e-4eab-9291-5611cb68ce08"
      },
      "source": [
        "# 2. Create Data Pipeline"
      ],
      "id": "c40a7eb4-0c3e-4eab-9291-5611cb68ce08"
    },
    {
      "cell_type": "code",
      "execution_count": null,
      "metadata": {
        "id": "f066fea2-91b1-42ed-a67d-00566a1a53ff"
      },
      "outputs": [],
      "source": [
        "batch_size = 10\n",
        "train_percentage = 0.1\n",
        "\n",
        "data = tf.data.Dataset.list_files(f'{videos_dir}/*/*.mpg')\n",
        "\n",
        "data_count = len(data)\n",
        "preprocessed_data = data.shuffle(data_count, reshuffle_each_iteration=False).map(mappable_function).prefetch(tf.data.AUTOTUNE)\n",
        "\n",
        "train_count = int(train_percentage * data_count)\n",
        "\n",
        "train = preprocessed_data.take(train_count).padded_batch(batch_size, padded_shapes=([75,None,None,None],[vocab_size]))\n",
        "test = preprocessed_data.skip(train_count).padded_batch(batch_size, padded_shapes=([75,None,None,None],[vocab_size]))"
      ],
      "id": "f066fea2-91b1-42ed-a67d-00566a1a53ff"
    },
    {
      "cell_type": "code",
      "execution_count": null,
      "metadata": {
        "colab": {
          "base_uri": "https://localhost:8080/"
        },
        "id": "bdn3d-1k6Hl_",
        "outputId": "547787c8-e79b-41b0-bf4f-181af9aea76f"
      },
      "outputs": [
        {
          "output_type": "stream",
          "name": "stdout",
          "text": [
            "train 10 test 90\n"
          ]
        }
      ],
      "source": [
        "print('train', len(train), 'test', len(test))"
      ],
      "id": "bdn3d-1k6Hl_"
    },
    {
      "cell_type": "markdown",
      "metadata": {
        "id": "EAwsl5zftOcJ"
      },
      "source": [
        "Test data extraction and loading"
      ],
      "id": "EAwsl5zftOcJ"
    },
    {
      "cell_type": "code",
      "execution_count": null,
      "metadata": {
        "id": "5cf2d676-93a9-434c-b3c7-bdcc2577b2e7"
      },
      "outputs": [],
      "source": [
        "batch = train.as_numpy_iterator().next()"
      ],
      "id": "5cf2d676-93a9-434c-b3c7-bdcc2577b2e7"
    },
    {
      "cell_type": "code",
      "execution_count": null,
      "metadata": {
        "id": "IuXQeJG7njYO"
      },
      "outputs": [],
      "source": [
        "batched_videos, batched_alignments = batch"
      ],
      "id": "IuXQeJG7njYO"
    },
    {
      "cell_type": "code",
      "execution_count": null,
      "metadata": {
        "id": "oscmJxmEq3Eq"
      },
      "outputs": [],
      "source": [
        "sample_video = batched_videos[0]\n",
        "sample_alignments = batched_alignments[0]"
      ],
      "id": "oscmJxmEq3Eq"
    },
    {
      "cell_type": "code",
      "execution_count": null,
      "metadata": {
        "colab": {
          "base_uri": "https://localhost:8080/"
        },
        "id": "acf5eb4f-a0da-4a9a-bf24-af13e9cc2fbe",
        "outputId": "d3633c69-b968-412d-c51a-7830bd437955"
      },
      "outputs": [
        {
          "output_type": "stream",
          "name": "stderr",
          "text": [
            "WARNING:imageio:Lossy conversion from float32 to uint8. Range [0.0, 10.820701599121094]. Convert image to uint8 prior to saving to suppress this warning.\n",
            "WARNING:imageio:Lossy conversion from float32 to uint8. Range [0.0, 10.820701599121094]. Convert image to uint8 prior to saving to suppress this warning.\n",
            "WARNING:imageio:Lossy conversion from float32 to uint8. Range [0.0, 10.820701599121094]. Convert image to uint8 prior to saving to suppress this warning.\n",
            "WARNING:imageio:Lossy conversion from float32 to uint8. Range [0.0, 10.820701599121094]. Convert image to uint8 prior to saving to suppress this warning.\n",
            "WARNING:imageio:Lossy conversion from float32 to uint8. Range [0.0, 10.820701599121094]. Convert image to uint8 prior to saving to suppress this warning.\n",
            "WARNING:imageio:Lossy conversion from float32 to uint8. Range [0.0, 10.820701599121094]. Convert image to uint8 prior to saving to suppress this warning.\n",
            "WARNING:imageio:Lossy conversion from float32 to uint8. Range [0.0, 10.820701599121094]. Convert image to uint8 prior to saving to suppress this warning.\n",
            "WARNING:imageio:Lossy conversion from float32 to uint8. Range [0.0, 10.820701599121094]. Convert image to uint8 prior to saving to suppress this warning.\n",
            "WARNING:imageio:Lossy conversion from float32 to uint8. Range [0.0, 10.820701599121094]. Convert image to uint8 prior to saving to suppress this warning.\n",
            "WARNING:imageio:Lossy conversion from float32 to uint8. Range [0.0, 10.820701599121094]. Convert image to uint8 prior to saving to suppress this warning.\n",
            "WARNING:imageio:Lossy conversion from float32 to uint8. Range [0.0, 10.820701599121094]. Convert image to uint8 prior to saving to suppress this warning.\n",
            "WARNING:imageio:Lossy conversion from float32 to uint8. Range [0.0, 10.820701599121094]. Convert image to uint8 prior to saving to suppress this warning.\n",
            "WARNING:imageio:Lossy conversion from float32 to uint8. Range [0.0, 10.820701599121094]. Convert image to uint8 prior to saving to suppress this warning.\n",
            "WARNING:imageio:Lossy conversion from float32 to uint8. Range [0.0, 10.820701599121094]. Convert image to uint8 prior to saving to suppress this warning.\n",
            "WARNING:imageio:Lossy conversion from float32 to uint8. Range [0.0, 10.820701599121094]. Convert image to uint8 prior to saving to suppress this warning.\n",
            "WARNING:imageio:Lossy conversion from float32 to uint8. Range [0.0, 10.820701599121094]. Convert image to uint8 prior to saving to suppress this warning.\n",
            "WARNING:imageio:Lossy conversion from float32 to uint8. Range [0.0, 10.820701599121094]. Convert image to uint8 prior to saving to suppress this warning.\n",
            "WARNING:imageio:Lossy conversion from float32 to uint8. Range [0.0, 10.820701599121094]. Convert image to uint8 prior to saving to suppress this warning.\n",
            "WARNING:imageio:Lossy conversion from float32 to uint8. Range [0.0, 10.820701599121094]. Convert image to uint8 prior to saving to suppress this warning.\n",
            "WARNING:imageio:Lossy conversion from float32 to uint8. Range [0.0, 10.820701599121094]. Convert image to uint8 prior to saving to suppress this warning.\n",
            "WARNING:imageio:Lossy conversion from float32 to uint8. Range [0.0, 10.820701599121094]. Convert image to uint8 prior to saving to suppress this warning.\n",
            "WARNING:imageio:Lossy conversion from float32 to uint8. Range [0.0, 10.820701599121094]. Convert image to uint8 prior to saving to suppress this warning.\n",
            "WARNING:imageio:Lossy conversion from float32 to uint8. Range [0.0, 10.820701599121094]. Convert image to uint8 prior to saving to suppress this warning.\n",
            "WARNING:imageio:Lossy conversion from float32 to uint8. Range [0.0, 10.820701599121094]. Convert image to uint8 prior to saving to suppress this warning.\n",
            "WARNING:imageio:Lossy conversion from float32 to uint8. Range [0.0, 10.820701599121094]. Convert image to uint8 prior to saving to suppress this warning.\n",
            "WARNING:imageio:Lossy conversion from float32 to uint8. Range [0.0, 10.820701599121094]. Convert image to uint8 prior to saving to suppress this warning.\n",
            "WARNING:imageio:Lossy conversion from float32 to uint8. Range [0.0, 10.820701599121094]. Convert image to uint8 prior to saving to suppress this warning.\n",
            "WARNING:imageio:Lossy conversion from float32 to uint8. Range [0.0, 10.820701599121094]. Convert image to uint8 prior to saving to suppress this warning.\n",
            "WARNING:imageio:Lossy conversion from float32 to uint8. Range [0.0, 10.820701599121094]. Convert image to uint8 prior to saving to suppress this warning.\n",
            "WARNING:imageio:Lossy conversion from float32 to uint8. Range [0.0, 10.820701599121094]. Convert image to uint8 prior to saving to suppress this warning.\n",
            "WARNING:imageio:Lossy conversion from float32 to uint8. Range [0.0, 10.820701599121094]. Convert image to uint8 prior to saving to suppress this warning.\n",
            "WARNING:imageio:Lossy conversion from float32 to uint8. Range [0.0, 10.820701599121094]. Convert image to uint8 prior to saving to suppress this warning.\n",
            "WARNING:imageio:Lossy conversion from float32 to uint8. Range [0.0, 10.820701599121094]. Convert image to uint8 prior to saving to suppress this warning.\n",
            "WARNING:imageio:Lossy conversion from float32 to uint8. Range [0.0, 10.820701599121094]. Convert image to uint8 prior to saving to suppress this warning.\n",
            "WARNING:imageio:Lossy conversion from float32 to uint8. Range [0.0, 10.820701599121094]. Convert image to uint8 prior to saving to suppress this warning.\n",
            "WARNING:imageio:Lossy conversion from float32 to uint8. Range [0.0, 10.820701599121094]. Convert image to uint8 prior to saving to suppress this warning.\n",
            "WARNING:imageio:Lossy conversion from float32 to uint8. Range [0.0, 10.820701599121094]. Convert image to uint8 prior to saving to suppress this warning.\n",
            "WARNING:imageio:Lossy conversion from float32 to uint8. Range [0.0, 10.820701599121094]. Convert image to uint8 prior to saving to suppress this warning.\n",
            "WARNING:imageio:Lossy conversion from float32 to uint8. Range [0.0, 10.820701599121094]. Convert image to uint8 prior to saving to suppress this warning.\n",
            "WARNING:imageio:Lossy conversion from float32 to uint8. Range [0.0, 10.820701599121094]. Convert image to uint8 prior to saving to suppress this warning.\n",
            "WARNING:imageio:Lossy conversion from float32 to uint8. Range [0.0, 10.820701599121094]. Convert image to uint8 prior to saving to suppress this warning.\n",
            "WARNING:imageio:Lossy conversion from float32 to uint8. Range [0.0, 10.820701599121094]. Convert image to uint8 prior to saving to suppress this warning.\n",
            "WARNING:imageio:Lossy conversion from float32 to uint8. Range [0.0, 10.820701599121094]. Convert image to uint8 prior to saving to suppress this warning.\n",
            "WARNING:imageio:Lossy conversion from float32 to uint8. Range [0.0, 10.820701599121094]. Convert image to uint8 prior to saving to suppress this warning.\n",
            "WARNING:imageio:Lossy conversion from float32 to uint8. Range [0.0, 10.820701599121094]. Convert image to uint8 prior to saving to suppress this warning.\n",
            "WARNING:imageio:Lossy conversion from float32 to uint8. Range [0.0, 10.820701599121094]. Convert image to uint8 prior to saving to suppress this warning.\n",
            "WARNING:imageio:Lossy conversion from float32 to uint8. Range [0.0, 10.820701599121094]. Convert image to uint8 prior to saving to suppress this warning.\n",
            "WARNING:imageio:Lossy conversion from float32 to uint8. Range [0.0, 10.820701599121094]. Convert image to uint8 prior to saving to suppress this warning.\n",
            "WARNING:imageio:Lossy conversion from float32 to uint8. Range [0.0, 10.820701599121094]. Convert image to uint8 prior to saving to suppress this warning.\n",
            "WARNING:imageio:Lossy conversion from float32 to uint8. Range [0.0, 10.820701599121094]. Convert image to uint8 prior to saving to suppress this warning.\n",
            "WARNING:imageio:Lossy conversion from float32 to uint8. Range [0.0, 10.820701599121094]. Convert image to uint8 prior to saving to suppress this warning.\n",
            "WARNING:imageio:Lossy conversion from float32 to uint8. Range [0.0, 10.820701599121094]. Convert image to uint8 prior to saving to suppress this warning.\n",
            "WARNING:imageio:Lossy conversion from float32 to uint8. Range [0.0, 10.820701599121094]. Convert image to uint8 prior to saving to suppress this warning.\n",
            "WARNING:imageio:Lossy conversion from float32 to uint8. Range [0.0, 10.820701599121094]. Convert image to uint8 prior to saving to suppress this warning.\n",
            "WARNING:imageio:Lossy conversion from float32 to uint8. Range [0.0, 10.820701599121094]. Convert image to uint8 prior to saving to suppress this warning.\n",
            "WARNING:imageio:Lossy conversion from float32 to uint8. Range [0.0, 10.820701599121094]. Convert image to uint8 prior to saving to suppress this warning.\n",
            "WARNING:imageio:Lossy conversion from float32 to uint8. Range [0.0, 10.820701599121094]. Convert image to uint8 prior to saving to suppress this warning.\n",
            "WARNING:imageio:Lossy conversion from float32 to uint8. Range [0.0, 10.820701599121094]. Convert image to uint8 prior to saving to suppress this warning.\n",
            "WARNING:imageio:Lossy conversion from float32 to uint8. Range [0.0, 10.820701599121094]. Convert image to uint8 prior to saving to suppress this warning.\n",
            "WARNING:imageio:Lossy conversion from float32 to uint8. Range [0.0, 10.820701599121094]. Convert image to uint8 prior to saving to suppress this warning.\n",
            "WARNING:imageio:Lossy conversion from float32 to uint8. Range [0.0, 10.820701599121094]. Convert image to uint8 prior to saving to suppress this warning.\n",
            "WARNING:imageio:Lossy conversion from float32 to uint8. Range [0.0, 10.820701599121094]. Convert image to uint8 prior to saving to suppress this warning.\n",
            "WARNING:imageio:Lossy conversion from float32 to uint8. Range [0.0, 10.820701599121094]. Convert image to uint8 prior to saving to suppress this warning.\n",
            "WARNING:imageio:Lossy conversion from float32 to uint8. Range [0.0, 10.820701599121094]. Convert image to uint8 prior to saving to suppress this warning.\n",
            "WARNING:imageio:Lossy conversion from float32 to uint8. Range [0.0, 10.820701599121094]. Convert image to uint8 prior to saving to suppress this warning.\n",
            "WARNING:imageio:Lossy conversion from float32 to uint8. Range [0.0, 10.820701599121094]. Convert image to uint8 prior to saving to suppress this warning.\n",
            "WARNING:imageio:Lossy conversion from float32 to uint8. Range [0.0, 10.820701599121094]. Convert image to uint8 prior to saving to suppress this warning.\n",
            "WARNING:imageio:Lossy conversion from float32 to uint8. Range [0.0, 10.820701599121094]. Convert image to uint8 prior to saving to suppress this warning.\n",
            "WARNING:imageio:Lossy conversion from float32 to uint8. Range [0.0, 10.820701599121094]. Convert image to uint8 prior to saving to suppress this warning.\n",
            "WARNING:imageio:Lossy conversion from float32 to uint8. Range [0.0, 10.820701599121094]. Convert image to uint8 prior to saving to suppress this warning.\n",
            "WARNING:imageio:Lossy conversion from float32 to uint8. Range [0.0, 10.820701599121094]. Convert image to uint8 prior to saving to suppress this warning.\n",
            "WARNING:imageio:Lossy conversion from float32 to uint8. Range [0.0, 10.820701599121094]. Convert image to uint8 prior to saving to suppress this warning.\n",
            "WARNING:imageio:Lossy conversion from float32 to uint8. Range [0.0, 10.820701599121094]. Convert image to uint8 prior to saving to suppress this warning.\n",
            "WARNING:imageio:Lossy conversion from float32 to uint8. Range [0.0, 10.820701599121094]. Convert image to uint8 prior to saving to suppress this warning.\n",
            "WARNING:imageio:Lossy conversion from float32 to uint8. Range [0.0, 10.820701599121094]. Convert image to uint8 prior to saving to suppress this warning.\n"
          ]
        }
      ],
      "source": [
        "imageio.mimsave('./animation.gif', sample_video, fps=10)"
      ],
      "id": "acf5eb4f-a0da-4a9a-bf24-af13e9cc2fbe"
    },
    {
      "cell_type": "code",
      "execution_count": null,
      "metadata": {
        "colab": {
          "base_uri": "https://localhost:8080/",
          "height": 410
        },
        "id": "c33a87a2-d5e0-4ec9-b174-73ebf41bf03a",
        "outputId": "68bd0111-8524-44b7-884d-32b83fea28ee"
      },
      "outputs": [
        {
          "output_type": "execute_result",
          "data": {
            "text/plain": [
              "<matplotlib.image.AxesImage at 0x7fdb7c639030>"
            ]
          },
          "metadata": {},
          "execution_count": 25
        },
        {
          "output_type": "display_data",
          "data": {
            "text/plain": [
              "<Figure size 640x480 with 1 Axes>"
            ],
            "image/png": "[encoded data removed]"
          },
          "metadata": {}
        }
      ],
      "source": [
        "plt.imshow(sample_video[35])"
      ],
      "id": "c33a87a2-d5e0-4ec9-b174-73ebf41bf03a"
    },
    {
      "cell_type": "code",
      "execution_count": null,
      "metadata": {
        "colab": {
          "base_uri": "https://localhost:8080/"
        },
        "id": "84593332-133c-4205-b7a6-8e235d5e2b3b",
        "outputId": "f667430b-087c-49f3-d3e0-7cdfc7b35ed2"
      },
      "outputs": [
        {
          "output_type": "execute_result",
          "data": {
            "text/plain": [
              "<tf.Tensor: shape=(), dtype=string, numpy=b'lay white in l zero please'>"
            ]
          },
          "metadata": {},
          "execution_count": 27
        }
      ],
      "source": [
        "tf.strings.reduce_join([num_to_char(word) for word in sample_alignments])"
      ],
      "id": "84593332-133c-4205-b7a6-8e235d5e2b3b"
    },
    {
      "cell_type": "markdown",
      "metadata": {
        "id": "0f47733c-83bc-465c-b118-b198b492ad37"
      },
      "source": [
        "# 3. Design the Deep Neural Network"
      ],
      "id": "0f47733c-83bc-465c-b118-b198b492ad37"
    },
    {
      "cell_type": "code",
      "execution_count": null,
      "metadata": {
        "colab": {
          "base_uri": "https://localhost:8080/"
        },
        "id": "3f753ed2-70b9-4236-8c1c-08ca065dc8bf",
        "outputId": "f0976479-e3c3-46c1-e51b-dfcfe782437f"
      },
      "outputs": [
        {
          "output_type": "execute_result",
          "data": {
            "text/plain": [
              "(75, 50, 75, 1)"
            ]
          },
          "metadata": {},
          "execution_count": 28
        }
      ],
      "source": [
        "input_shape = sample_video.shape\n",
        "input_shape"
      ],
      "id": "3f753ed2-70b9-4236-8c1c-08ca065dc8bf"
    },
    {
      "cell_type": "code",
      "execution_count": null,
      "metadata": {
        "id": "f9171056-a352-491a-9ed9-92b28ced268e"
      },
      "outputs": [],
      "source": [
        "model = Sequential()\n",
        "# Three layers of 3D/spatiotemporal convolutions.\n",
        "model.add(Conv3D(128, 3, input_shape=input_shape, padding='same'))\n",
        "model.add(Activation('relu'))\n",
        "model.add(MaxPool3D((1,2,2)))\n",
        "\n",
        "model.add(Conv3D(256, 3, padding='same'))\n",
        "model.add(Activation('relu'))\n",
        "model.add(MaxPool3D((1,2,2)))\n",
        "\n",
        "model.add(Conv3D(75, 3, padding='same'))\n",
        "model.add(Activation('relu'))\n",
        "model.add(MaxPool3D((1,2,2)))\n",
        "\n",
        "# Flattens each time slice independently.\n",
        "model.add(TimeDistributed(Flatten()))\n",
        "\n",
        "# Two layers of Bi-LSTM's.\n",
        "# return_sequences=True makes the the network output a sequence of predictions, one for each time step of the input sequence.\n",
        "model.add(Bidirectional(LSTM(128, kernel_initializer='Orthogonal', return_sequences=True)))\n",
        "# model.add(Dropout(.5))\n",
        "\n",
        "model.add(Bidirectional(LSTM(128, kernel_initializer='Orthogonal', return_sequences=True)))\n",
        "# model.add(Dropout(.5))\n",
        "\n",
        "# Linear transformation (dense layer) and output (softmax layer).\n",
        "model.add(Dense(vocab_size + 1, kernel_initializer='he_normal', activation='softmax'))"
      ],
      "id": "f9171056-a352-491a-9ed9-92b28ced268e"
    },
    {
      "cell_type": "code",
      "execution_count": null,
      "metadata": {
        "colab": {
          "base_uri": "https://localhost:8080/"
        },
        "id": "98b316a4-5322-4782-8e36-4b3c1a696d85",
        "outputId": "e1b0bbfa-c92f-41ee-8ca2-c09319106eef"
      },
      "outputs": [
        {
          "output_type": "execute_result",
          "data": {
            "text/plain": [
              "(None, 75, 41)"
            ]
          },
          "metadata": {},
          "execution_count": 30
        }
      ],
      "source": [
        "model.output_shape"
      ],
      "id": "98b316a4-5322-4782-8e36-4b3c1a696d85"
    },
    {
      "cell_type": "code",
      "execution_count": null,
      "metadata": {
        "colab": {
          "base_uri": "https://localhost:8080/"
        },
        "id": "e5c2eae0-c359-41a4-97a0-75c44dccb7d1",
        "outputId": "3f05f26d-719a-45b2-e03a-e18f09639d0a"
      },
      "outputs": [
        {
          "output_type": "stream",
          "name": "stdout",
          "text": [
            "1/1 [==============================] - 5s 5s/step\n"
          ]
        }
      ],
      "source": [
        "yhat = model.predict(np.expand_dims(sample_video, axis=0))[0]"
      ],
      "id": "e5c2eae0-c359-41a4-97a0-75c44dccb7d1"
    },
    {
      "cell_type": "code",
      "execution_count": null,
      "metadata": {
        "colab": {
          "base_uri": "https://localhost:8080/"
        },
        "id": "6ed47531-8317-4255-9a12-b757642258e6",
        "outputId": "cd4e3fa6-63a3-4031-cd78-e871e739409c"
      },
      "outputs": [
        {
          "output_type": "execute_result",
          "data": {
            "text/plain": [
              "<tf.Tensor: shape=(), dtype=string, numpy=b'!!!!!!!!!!!!!!!!!!!!!!!!!!!!!!!!!!!!!!!!!!!!!!!!!!!!!!!!!!!!!!!!!!!!!!!!!!j'>"
            ]
          },
          "metadata": {},
          "execution_count": 32
        }
      ],
      "source": [
        "tf.strings.reduce_join([num_to_char(tf.argmax(x)) for x in yhat])"
      ],
      "id": "6ed47531-8317-4255-9a12-b757642258e6"
    },
    {
      "cell_type": "markdown",
      "metadata": {
        "id": "2ec02176-5c26-46c3-aff7-8352e6563c7d"
      },
      "source": [
        "# 4. Setup Training Options and Train"
      ],
      "id": "2ec02176-5c26-46c3-aff7-8352e6563c7d"
    },
    {
      "cell_type": "code",
      "execution_count": null,
      "metadata": {
        "id": "Hkq3RANyPQ61"
      },
      "outputs": [],
      "source": [
        "learning_rate_decay_start_epoch = 100\n",
        "learning_rate = 0.0003"
      ],
      "id": "Hkq3RANyPQ61"
    },
    {
      "cell_type": "code",
      "execution_count": null,
      "metadata": {
        "id": "ab015fd0-7fb4-4d5d-9fa2-30a05dbd515a"
      },
      "outputs": [],
      "source": [
        "def scheduler(epoch, lr):\n",
        "    if epoch < learning_rate_decay_start_epoch:\n",
        "        return lr\n",
        "    else:\n",
        "        return lr * tf.math.exp(-0.01)"
      ],
      "id": "ab015fd0-7fb4-4d5d-9fa2-30a05dbd515a"
    },
    {
      "cell_type": "code",
      "execution_count": null,
      "metadata": {
        "id": "c564d5c9-db54-4e88-b311-9aeab7fb3e69"
      },
      "outputs": [],
      "source": [
        "def CTCLoss(y_true, y_pred):\n",
        "    batch_len = tf.cast(tf.shape(y_true)[0], dtype=\"int64\")\n",
        "    input_length = tf.cast(tf.shape(y_pred)[1], dtype=\"int64\")\n",
        "    label_length = tf.cast(tf.shape(y_true)[1], dtype=\"int64\")\n",
        "\n",
        "    input_length = input_length * tf.ones(shape=(batch_len, 1), dtype=\"int64\")\n",
        "    label_length = label_length * tf.ones(shape=(batch_len, 1), dtype=\"int64\")\n",
        "\n",
        "    loss = tf.keras.backend.ctc_batch_cost(y_true, y_pred, input_length, label_length)\n",
        "    return loss"
      ],
      "id": "c564d5c9-db54-4e88-b311-9aeab7fb3e69"
    },
    {
      "cell_type": "code",
      "execution_count": null,
      "metadata": {
        "id": "04be90d8-2482-46f9-b513-d5f4f8001c7e"
      },
      "outputs": [],
      "source": [
        "model.compile(optimizer=Adam(learning_rate=learning_rate), loss=CTCLoss)"
      ],
      "id": "04be90d8-2482-46f9-b513-d5f4f8001c7e"
    },
    {
      "cell_type": "code",
      "execution_count": null,
      "metadata": {
        "id": "eab49367-3f1e-4464-ae76-dbd07549d97e"
      },
      "outputs": [],
      "source": [
        "checkpoint_callback = ModelCheckpoint(os.path.join('models','checkpoint'), monitor='loss', save_weights_only=True) "
      ],
      "id": "eab49367-3f1e-4464-ae76-dbd07549d97e"
    },
    {
      "cell_type": "code",
      "execution_count": null,
      "metadata": {
        "id": "e085a632-d464-46ef-8777-959cad4adb2c"
      },
      "outputs": [],
      "source": [
        "schedule_callback = LearningRateScheduler(scheduler)"
      ],
      "id": "e085a632-d464-46ef-8777-959cad4adb2c"
    },
    {
      "cell_type": "code",
      "execution_count": null,
      "metadata": {
        "colab": {
          "base_uri": "https://localhost:8080/"
        },
        "id": "3R71dZoURro9",
        "outputId": "1435b512-6ddb-47a8-9923-f57d68f46b31"
      },
      "outputs": [
        {
          "output_type": "execute_result",
          "data": {
            "text/plain": [
              "<_PaddedBatchDataset element_spec=(TensorSpec(shape=(None, 75, None, None, None), dtype=tf.float32, name=None), TensorSpec(shape=(None, 40), dtype=tf.int64, name=None))>"
            ]
          },
          "metadata": {},
          "execution_count": 39
        }
      ],
      "source": [
        "train"
      ],
      "id": "3R71dZoURro9"
    },
    {
      "cell_type": "code",
      "execution_count": null,
      "metadata": {
        "id": "8ffba483-aa61-4bbe-a15f-a73e1ddf097c"
      },
      "outputs": [],
      "source": [
        "model.fit(train, epochs=100, callbacks=[checkpoint_callback, schedule_callback])"
      ],
      "id": "8ffba483-aa61-4bbe-a15f-a73e1ddf097c"
    },
    {
      "cell_type": "code",
      "execution_count": null,
      "metadata": {
        "colab": {
          "base_uri": "https://localhost:8080/"
        },
        "id": "M_GA6ehxcc0o",
        "outputId": "2e8d44de-fe7c-4a1b-ba45-e2af99943001"
      },
      "outputs": [
        {
          "name": "stdout",
          "output_type": "stream",
          "text": [
            "  adding: content/models/ (stored 0%)\n",
            "  adding: content/models/checkpoint (deflated 48%)\n",
            "  adding: content/models/checkpoint.data-00000-of-00001 (deflated 12%)\n",
            "  adding: content/models/checkpoint.index (deflated 72%)\n"
          ]
        }
      ],
      "source": [
        "!zip -r /content/checkpoint.zip /content/models"
      ],
      "id": "M_GA6ehxcc0o"
    },
    {
      "cell_type": "code",
      "execution_count": null,
      "metadata": {
        "colab": {
          "base_uri": "https://localhost:8080/",
          "height": 17
        },
        "id": "h8CXSwloctSG",
        "outputId": "1bcc3e34-847f-4a25-dd9c-f1d2d53a1304"
      },
      "outputs": [
        {
          "data": {
            "application/javascript": [
              "\n",
              "    async function download(id, filename, size) {\n",
              "      if (!google.colab.kernel.accessAllowed) {\n",
              "        return;\n",
              "      }\n",
              "      const div = document.createElement('div');\n",
              "      const label = document.createElement('label');\n",
              "      label.textContent = `Downloading \"${filename}\": `;\n",
              "      div.appendChild(label);\n",
              "      const progress = document.createElement('progress');\n",
              "      progress.max = size;\n",
              "      div.appendChild(progress);\n",
              "      document.body.appendChild(div);\n",
              "\n",
              "      const buffers = [];\n",
              "      let downloaded = 0;\n",
              "\n",
              "      const channel = await google.colab.kernel.comms.open(id);\n",
              "      // Send a message to notify the kernel that we're ready.\n",
              "      channel.send({})\n",
              "\n",
              "      for await (const message of channel.messages) {\n",
              "        // Send a message to notify the kernel that we're ready.\n",
              "        channel.send({})\n",
              "        if (message.buffers) {\n",
              "          for (const buffer of message.buffers) {\n",
              "            buffers.push(buffer);\n",
              "            downloaded += buffer.byteLength;\n",
              "            progress.value = downloaded;\n",
              "          }\n",
              "        }\n",
              "      }\n",
              "      const blob = new Blob(buffers, {type: 'application/binary'});\n",
              "      const a = document.createElement('a');\n",
              "      a.href = window.URL.createObjectURL(blob);\n",
              "      a.download = filename;\n",
              "      div.appendChild(a);\n",
              "      a.click();\n",
              "      div.remove();\n",
              "    }\n",
              "  "
            ],
            "text/plain": [
              "<IPython.core.display.Javascript object>"
            ]
          },
          "metadata": {},
          "output_type": "display_data"
        },
        {
          "data": {
            "application/javascript": [
              "download(\"download_a83a3dba-295c-4fe6-93fc-080fa27a6664\", \"checkpoint.zip\", 89937026)"
            ],
            "text/plain": [
              "<IPython.core.display.Javascript object>"
            ]
          },
          "metadata": {},
          "output_type": "display_data"
        }
      ],
      "source": [
        "from google.colab import files\n",
        "files.download(\"/content/checkpoint.zip\")"
      ],
      "id": "h8CXSwloctSG"
    },
    {
      "cell_type": "code",
      "execution_count": null,
      "metadata": {
        "colab": {
          "base_uri": "https://localhost:8080/"
        },
        "id": "MOSHvq4paAqf",
        "outputId": "12141001-b5d0-4db4-9866-ba27ab80f65c"
      },
      "outputs": [
        {
          "name": "stdout",
          "output_type": "stream",
          "text": [
            "86M\t/content/checkpoint.zip\n"
          ]
        }
      ],
      "source": [
        "!du -h /content/checkpoint.zip"
      ],
      "id": "MOSHvq4paAqf"
    },
    {
      "cell_type": "markdown",
      "metadata": {
        "id": "fa8ee94b-89f7-4733-8a0c-a86f86ff590a"
      },
      "source": [
        "# 5. Make a Prediction "
      ],
      "id": "fa8ee94b-89f7-4733-8a0c-a86f86ff590a"
    },
    {
      "cell_type": "code",
      "execution_count": null,
      "metadata": {
        "id": "kCEzuX85fp2S"
      },
      "outputs": [],
      "source": [
        "def calculate_accuracy(y_true, y_pred):\n",
        "    # Convert y_pred to label sequences by using argmax\n",
        "    pred_labels, _ = tf.keras.backend.ctc_decode(y_pred, tf.shape(y_pred)[1])\n",
        "\n",
        "    # Convert sparse tensor y_true to dense tensor for comparison\n",
        "    y_true = tf.sparse.to_dense(y_true)\n",
        "\n",
        "    # Compare the predicted labels with true labels\n",
        "    matches = tf.equal(pred_labels, y_true)\n",
        "\n",
        "    # Calculate accuracy by taking the mean of matches\n",
        "    accuracy = tf.reduce_mean(tf.cast(matches, tf.float32))\n",
        "    \n",
        "    return accuracy"
      ],
      "id": "kCEzuX85fp2S"
    },
    {
      "cell_type": "code",
      "execution_count": null,
      "metadata": {
        "id": "f5llNrlW7C0n"
      },
      "outputs": [],
      "source": [
        "# loss = model.evaluate(test)"
      ],
      "id": "f5llNrlW7C0n"
    },
    {
      "cell_type": "code",
      "execution_count": null,
      "metadata": {
        "id": "7f8d689f-b7bb-443c-9b88-e40c1d800828"
      },
      "outputs": [],
      "source": [
        "sample = test.as_numpy_iterator().next()"
      ],
      "id": "7f8d689f-b7bb-443c-9b88-e40c1d800828"
    },
    {
      "cell_type": "code",
      "execution_count": null,
      "metadata": {
        "id": "38546dc2-bee9-4837-864b-8a884df40ad7"
      },
      "outputs": [],
      "source": [
        "batched_videos, batched_alignments = sample"
      ],
      "id": "38546dc2-bee9-4837-864b-8a884df40ad7"
    },
    {
      "cell_type": "code",
      "execution_count": null,
      "metadata": {
        "id": "rhAY4Rd_dfqd"
      },
      "outputs": [],
      "source": [
        "frames = batched_videos[0]\n",
        "alignments = batched_alignments[0]"
      ],
      "id": "rhAY4Rd_dfqd"
    },
    {
      "cell_type": "code",
      "execution_count": null,
      "metadata": {
        "colab": {
          "base_uri": "https://localhost:8080/"
        },
        "id": "a43621f0-229d-4c0d-9554-9c3a3da9c61a",
        "outputId": "feb586cd-e78e-46d7-ef2a-079b7495fa4a"
      },
      "outputs": [
        {
          "name": "stdout",
          "output_type": "stream",
          "text": [
            "1/1 [==============================] - 0s 32ms/step\n"
          ]
        }
      ],
      "source": [
        "yhat = model.predict(np.expand_dims(frames, axis=0))"
      ],
      "id": "a43621f0-229d-4c0d-9554-9c3a3da9c61a"
    },
    {
      "cell_type": "code",
      "execution_count": null,
      "metadata": {
        "id": "YDhpxY7NfHw1"
      },
      "outputs": [],
      "source": [
        "yhat_tensor = tf.convert_to_tensor(yhat)"
      ],
      "id": "YDhpxY7NfHw1"
    },
    {
      "cell_type": "code",
      "execution_count": null,
      "metadata": {
        "colab": {
          "base_uri": "https://localhost:8080/"
        },
        "id": "82bd4c10-dd6e-411e-834b-2a3b43fd12c5",
        "outputId": "467159d3-19c4-4025-bd61-4d768d28ce46"
      },
      "outputs": [
        {
          "ename": "FailedPreconditionError",
          "evalue": "ignored",
          "output_type": "error",
          "traceback": [
            "\u001b[0;31m---------------------------------------------------------------------------\u001b[0m",
            "\u001b[0;31mFailedPreconditionError\u001b[0m                   Traceback (most recent call last)",
            "\u001b[0;32m<ipython-input-62-6753f3ff6f6f>\u001b[0m in \u001b[0;36m<cell line: 1>\u001b[0;34m()\u001b[0m\n\u001b[0;32m----> 1\u001b[0;31m \u001b[0mdecoded\u001b[0m \u001b[0;34m=\u001b[0m \u001b[0mtf\u001b[0m\u001b[0;34m.\u001b[0m\u001b[0mkeras\u001b[0m\u001b[0;34m.\u001b[0m\u001b[0mbackend\u001b[0m\u001b[0;34m.\u001b[0m\u001b[0mctc_decode\u001b[0m\u001b[0;34m(\u001b[0m\u001b[0myhat\u001b[0m\u001b[0;34m,\u001b[0m \u001b[0minput_length\u001b[0m\u001b[0;34m=\u001b[0m\u001b[0;34m[\u001b[0m\u001b[0;36m75\u001b[0m\u001b[0;34m,\u001b[0m\u001b[0;36m75\u001b[0m\u001b[0;34m]\u001b[0m\u001b[0;34m,\u001b[0m \u001b[0mgreedy\u001b[0m\u001b[0;34m=\u001b[0m\u001b[0;32mTrue\u001b[0m\u001b[0;34m)\u001b[0m\u001b[0;34m[\u001b[0m\u001b[0;36m0\u001b[0m\u001b[0;34m]\u001b[0m\u001b[0;34m[\u001b[0m\u001b[0;36m0\u001b[0m\u001b[0;34m]\u001b[0m\u001b[0;34m.\u001b[0m\u001b[0mnumpy\u001b[0m\u001b[0;34m(\u001b[0m\u001b[0;34m)\u001b[0m\u001b[0;34m\u001b[0m\u001b[0;34m\u001b[0m\u001b[0m\n\u001b[0m",
            "\u001b[0;32m/usr/local/lib/python3.10/dist-packages/tensorflow/python/util/traceback_utils.py\u001b[0m in \u001b[0;36merror_handler\u001b[0;34m(*args, **kwargs)\u001b[0m\n\u001b[1;32m    151\u001b[0m     \u001b[0;32mexcept\u001b[0m \u001b[0mException\u001b[0m \u001b[0;32mas\u001b[0m \u001b[0me\u001b[0m\u001b[0;34m:\u001b[0m\u001b[0;34m\u001b[0m\u001b[0;34m\u001b[0m\u001b[0m\n\u001b[1;32m    152\u001b[0m       \u001b[0mfiltered_tb\u001b[0m \u001b[0;34m=\u001b[0m \u001b[0m_process_traceback_frames\u001b[0m\u001b[0;34m(\u001b[0m\u001b[0me\u001b[0m\u001b[0;34m.\u001b[0m\u001b[0m__traceback__\u001b[0m\u001b[0;34m)\u001b[0m\u001b[0;34m\u001b[0m\u001b[0;34m\u001b[0m\u001b[0m\n\u001b[0;32m--> 153\u001b[0;31m       \u001b[0;32mraise\u001b[0m \u001b[0me\u001b[0m\u001b[0;34m.\u001b[0m\u001b[0mwith_traceback\u001b[0m\u001b[0;34m(\u001b[0m\u001b[0mfiltered_tb\u001b[0m\u001b[0;34m)\u001b[0m \u001b[0;32mfrom\u001b[0m \u001b[0;32mNone\u001b[0m\u001b[0;34m\u001b[0m\u001b[0;34m\u001b[0m\u001b[0m\n\u001b[0m\u001b[1;32m    154\u001b[0m     \u001b[0;32mfinally\u001b[0m\u001b[0;34m:\u001b[0m\u001b[0;34m\u001b[0m\u001b[0;34m\u001b[0m\u001b[0m\n\u001b[1;32m    155\u001b[0m       \u001b[0;32mdel\u001b[0m \u001b[0mfiltered_tb\u001b[0m\u001b[0;34m\u001b[0m\u001b[0;34m\u001b[0m\u001b[0m\n",
            "\u001b[0;32m/usr/local/lib/python3.10/dist-packages/keras/backend.py\u001b[0m in \u001b[0;36mctc_decode\u001b[0;34m(y_pred, input_length, greedy, beam_width, top_paths)\u001b[0m\n\u001b[1;32m   7095\u001b[0m \u001b[0;34m\u001b[0m\u001b[0m\n\u001b[1;32m   7096\u001b[0m     \u001b[0;32mif\u001b[0m \u001b[0mgreedy\u001b[0m\u001b[0;34m:\u001b[0m\u001b[0;34m\u001b[0m\u001b[0;34m\u001b[0m\u001b[0m\n\u001b[0;32m-> 7097\u001b[0;31m         (decoded, log_prob) = tf.nn.ctc_greedy_decoder(\n\u001b[0m\u001b[1;32m   7098\u001b[0m             \u001b[0minputs\u001b[0m\u001b[0;34m=\u001b[0m\u001b[0my_pred\u001b[0m\u001b[0;34m,\u001b[0m \u001b[0msequence_length\u001b[0m\u001b[0;34m=\u001b[0m\u001b[0minput_length\u001b[0m\u001b[0;34m\u001b[0m\u001b[0;34m\u001b[0m\u001b[0m\n\u001b[1;32m   7099\u001b[0m         )\n",
            "\u001b[0;31mFailedPreconditionError\u001b[0m: {{function_node __wrapped__CTCGreedyDecoder_device_/job:localhost/replica:0/task:0/device:CPU:0}} len(sequence_length) != batch_size.  len(sequence_length):  2 batch_size: 1 [Op:CTCGreedyDecoder]"
          ]
        }
      ],
      "source": [
        "decoded = tf.keras.backend.ctc_decode(yhat, input_length=[75], greedy=True)[0][0].numpy()"
      ],
      "id": "82bd4c10-dd6e-411e-834b-2a3b43fd12c5"
    },
    {
      "cell_type": "code",
      "execution_count": null,
      "metadata": {
        "id": "ea462999-f87e-4a7e-a057-5be7b6d8f7d5"
      },
      "outputs": [],
      "source": [
        "print('~'*100, 'REAL TEXT')\n",
        "[tf.strings.reduce_join([num_to_char(word) for word in sentence]) for sentence in alignments]"
      ],
      "id": "ea462999-f87e-4a7e-a057-5be7b6d8f7d5"
    },
    {
      "cell_type": "code",
      "execution_count": null,
      "metadata": {
        "id": "5d68ac46-c90b-4eab-a709-f19aee569ff5"
      },
      "outputs": [],
      "source": [
        "print('~'*100, 'PREDICTIONS')\n",
        "[tf.strings.reduce_join([num_to_char(word) for word in sentence]) for sentence in decoded]"
      ],
      "id": "5d68ac46-c90b-4eab-a709-f19aee569ff5"
    }
  ],
  "metadata": {
    "colab": {
      "machine_shape": "hm",
      "provenance": [],
      "gpuClass": "premium",
      "gpuType": "V100",
      "include_colab_link": true
    },
    "gpuClass": "premium",
    "kernelspec": {
      "display_name": "Python 3",
      "name": "python3"
    },
    "language_info": {
      "name": "python"
    }
  },
  "nbformat": 4,
  "nbformat_minor": 5
}