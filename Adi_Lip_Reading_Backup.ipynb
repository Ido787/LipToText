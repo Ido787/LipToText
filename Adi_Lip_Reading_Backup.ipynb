{
  "cells": [
    {
      "cell_type": "markdown",
      "metadata": {
        "id": "view-in-github",
        "colab_type": "text"
      },
      "source": [
        "<a href=\"https://colab.research.google.com/github/Ido787/ReadMyLips/blob/hyper-params/Adi_Lip_Reading_Backup.ipynb\" target=\"_parent\"><img src=\"https://colab.research.google.com/assets/colab-badge.svg\" alt=\"Open In Colab\"/></a>"
      ]
    },
    {
      "cell_type": "markdown",
      "metadata": {
        "id": "a3573a47-3689-4668-b62f-5c8451b2b4e9"
      },
      "source": [
        "# Install and Import Dependencies"
      ],
      "id": "a3573a47-3689-4668-b62f-5c8451b2b4e9"
    },
    {
      "cell_type": "code",
      "execution_count": null,
      "metadata": {
        "id": "b24af50c-20b8-409d-ad78-30a933fdd669"
      },
      "outputs": [],
      "source": [
        "import os\n",
        "import cv2\n",
        "import tensorflow as tf\n",
        "import numpy as np\n",
        "from typing import List\n",
        "from matplotlib import pyplot as plt\n",
        "import imageio\n",
        "import gdown\n",
        "import tempfile\n",
        "import shutil\n",
        "from matplotlib import pyplot as plt\n",
        "from keras.models import Sequential \n",
        "from keras.layers import Conv3D, LSTM, Dense, Dropout, Bidirectional, MaxPool3D, Activation, Reshape, SpatialDropout3D, BatchNormalization, TimeDistributed, Flatten\n",
        "from keras.optimizers import Adam\n",
        "from keras.callbacks import ModelCheckpoint, LearningRateScheduler"
      ],
      "id": "b24af50c-20b8-409d-ad78-30a933fdd669"
    },
    {
      "cell_type": "markdown",
      "metadata": {
        "id": "7a19e88e-c7b9-45c1-ae1e-f2109329c71b"
      },
      "source": [
        "# Build Data Loading Functions"
      ],
      "id": "7a19e88e-c7b9-45c1-ae1e-f2109329c71b"
    },
    {
      "cell_type": "code",
      "execution_count": null,
      "metadata": {
        "id": "VJap7mC26-hO"
      },
      "outputs": [],
      "source": [
        "selected_speakers = [1]"
      ],
      "id": "VJap7mC26-hO"
    },
    {
      "cell_type": "code",
      "execution_count": null,
      "metadata": {
        "id": "5ynvWGHLy5Vy"
      },
      "outputs": [],
      "source": [
        "invalid_speakers = [21]\n",
        "base_dataset_URL = 'https://spandh.dcs.shef.ac.uk/gridcorpus'\n",
        "\n",
        "get_videos_url = lambda speaker_index : f'{base_dataset_URL}/s{speaker_index}/video/s{speaker_index}.mpg_vcd.zip'\n",
        "get_alignments_url = lambda speaker_index : f'{base_dataset_URL}/s{speaker_index}/align/s{speaker_index}.tar'\n",
        "\n",
        "cache_dir = '/content/data'\n",
        "alignment_dir = f'{cache_dir}/alignments'\n",
        "videos_dir = f'{cache_dir}/videos'\n",
        "\n",
        "speakers = [speaker for speaker in range(1, 36) if speaker in selected_speakers and speaker not in invalid_speakers]\n",
        "\n",
        "if not (os.path.isdir(alignment_dir) or os.path.isdir(videos_dir)):\n",
        "  with tempfile.TemporaryDirectory() as tmpdir:\n",
        "    for speaker_index in speakers:\n",
        "      print(f'Downloading speaker {speaker_index}:')\n",
        "      \n",
        "      alignments_path = f'alignments/s{speaker_index}'\n",
        "      tf.keras.utils.get_file(None, get_alignments_url(speaker_index), extract=True,\n",
        "                                      cache_dir=tmpdir, cache_subdir = alignments_path)    \n",
        "      shutil.move(f'{tmpdir}/{alignments_path}/align', f'{alignment_dir}/s{speaker_index}')\n",
        "\n",
        "      tf.keras.utils.get_file(None, get_videos_url(speaker_index), extract=True,\n",
        "                                      cache_dir=tmpdir, cache_subdir = 'videos')    \n",
        "      shutil.move(f'{tmpdir}/videos/s{speaker_index}', f'{videos_dir}/s{speaker_index}')"
      ],
      "id": "5ynvWGHLy5Vy"
    },
    {
      "cell_type": "code",
      "execution_count": null,
      "metadata": {
        "id": "8548cc59-6dfc-4acc-abc3-3e65212db02e"
      },
      "outputs": [],
      "source": [
        "def load_video(path: str) -> List[float]: \n",
        "      cap = cv2.VideoCapture(path)\n",
        "      \n",
        "      # Preprocessing\n",
        "      frames = []\n",
        "      for _ in range(int(cap.get(cv2.CAP_PROP_FRAME_COUNT))): \n",
        "          ret, frame = cap.read()\n",
        "          frame = tf.image.rgb_to_grayscale(frame)\n",
        "          frames.append(frame[190:236,80:220,:])\n",
        "\n",
        "      cap.release()\n",
        "      \n",
        "      mean = tf.math.reduce_mean(frames)\n",
        "      std = tf.math.reduce_std(tf.cast(frames, tf.float32))\n",
        "\n",
        "      return tf.cast((frames - mean), tf.float32) / std"
      ],
      "id": "8548cc59-6dfc-4acc-abc3-3e65212db02e"
    },
    {
      "cell_type": "code",
      "execution_count": null,
      "metadata": {
        "id": "ec735e0b-ec98-4eb0-8f49-c35527d6670a"
      },
      "outputs": [],
      "source": [
        "vocab = [x for x in \"abcdefghijklmnopqrstuvwxyz'?!123456789 \"]"
      ],
      "id": "ec735e0b-ec98-4eb0-8f49-c35527d6670a"
    },
    {
      "cell_type": "code",
      "execution_count": null,
      "metadata": {
        "colab": {
          "base_uri": "https://localhost:8080/"
        },
        "id": "be04e972-d7a5-4a72-82d8-a6bdde1f3ce6",
        "outputId": "668b63eb-3552-43b5-b77b-d4f71c28e9ca"
      },
      "outputs": [
        {
          "output_type": "stream",
          "name": "stdout",
          "text": [
            "The vocabulary is: ['', 'a', 'b', 'c', 'd', 'e', 'f', 'g', 'h', 'i', 'j', 'k', 'l', 'm', 'n', 'o', 'p', 'q', 'r', 's', 't', 'u', 'v', 'w', 'x', 'y', 'z', \"'\", '?', '!', '1', '2', '3', '4', '5', '6', '7', '8', '9', ' '] (size =40)\n"
          ]
        }
      ],
      "source": [
        "char_to_num = tf.keras.layers.StringLookup(vocabulary=vocab, oov_token=\"\")\n",
        "\n",
        "num_to_char = tf.keras.layers.StringLookup(\n",
        "    vocabulary=char_to_num.get_vocabulary(), oov_token=\"\", invert=True\n",
        ")\n",
        "\n",
        "print(\n",
        "    f\"The vocabulary is: {char_to_num.get_vocabulary()} \"\n",
        "    f\"(size ={char_to_num.vocabulary_size()})\"\n",
        ")"
      ],
      "id": "be04e972-d7a5-4a72-82d8-a6bdde1f3ce6"
    },
    {
      "cell_type": "code",
      "execution_count": null,
      "metadata": {
        "colab": {
          "base_uri": "https://localhost:8080/"
        },
        "id": "559f7420-6802-45fa-9ca0-b1ff209b461c",
        "outputId": "b4d50275-7769-40a1-8d29-ca4e6b7f850f"
      },
      "outputs": [
        {
          "output_type": "execute_result",
          "data": {
            "text/plain": [
              "['',\n",
              " 'a',\n",
              " 'b',\n",
              " 'c',\n",
              " 'd',\n",
              " 'e',\n",
              " 'f',\n",
              " 'g',\n",
              " 'h',\n",
              " 'i',\n",
              " 'j',\n",
              " 'k',\n",
              " 'l',\n",
              " 'm',\n",
              " 'n',\n",
              " 'o',\n",
              " 'p',\n",
              " 'q',\n",
              " 'r',\n",
              " 's',\n",
              " 't',\n",
              " 'u',\n",
              " 'v',\n",
              " 'w',\n",
              " 'x',\n",
              " 'y',\n",
              " 'z',\n",
              " \"'\",\n",
              " '?',\n",
              " '!',\n",
              " '1',\n",
              " '2',\n",
              " '3',\n",
              " '4',\n",
              " '5',\n",
              " '6',\n",
              " '7',\n",
              " '8',\n",
              " '9',\n",
              " ' ']"
            ]
          },
          "metadata": {},
          "execution_count": 157
        }
      ],
      "source": [
        "char_to_num.get_vocabulary()"
      ],
      "id": "559f7420-6802-45fa-9ca0-b1ff209b461c"
    },
    {
      "cell_type": "code",
      "execution_count": null,
      "metadata": {
        "colab": {
          "base_uri": "https://localhost:8080/"
        },
        "id": "797ff78b-b48f-4e14-bb62-8cd0ebf9501a",
        "outputId": "f5be20a6-74b9-4cad-b7d4-6495593e6303"
      },
      "outputs": [
        {
          "output_type": "execute_result",
          "data": {
            "text/plain": [
              "<tf.Tensor: shape=(6,), dtype=int64, numpy=array([ 8,  1,  2,  1, 14,  9])>"
            ]
          },
          "metadata": {},
          "execution_count": 158
        }
      ],
      "source": [
        "char_to_num(['h','a','b','a', 'n', 'i'])"
      ],
      "id": "797ff78b-b48f-4e14-bb62-8cd0ebf9501a"
    },
    {
      "cell_type": "code",
      "execution_count": null,
      "metadata": {
        "colab": {
          "base_uri": "https://localhost:8080/"
        },
        "id": "8cd7f4f4-ae77-4509-a4f4-c723787ebad1",
        "outputId": "e3cc48fc-5739-43e7-b2db-f9b4f623868c"
      },
      "outputs": [
        {
          "output_type": "execute_result",
          "data": {
            "text/plain": [
              "<tf.Tensor: shape=(6,), dtype=string, numpy=array([b'h', b'a', b'b', b'a', b'n', b'i'], dtype=object)>"
            ]
          },
          "metadata": {},
          "execution_count": 159
        }
      ],
      "source": [
        "num_to_char([8, 1, 2, 1, 14, 9])"
      ],
      "id": "8cd7f4f4-ae77-4509-a4f4-c723787ebad1"
    },
    {
      "cell_type": "code",
      "execution_count": null,
      "metadata": {
        "id": "9491bab5-6a3c-4f79-879a-8f9fbe73ae2e"
      },
      "outputs": [],
      "source": [
        "def load_alignments(path:str) -> List[str]: \n",
        "    with open(path, 'r') as f: \n",
        "        lines = f.readlines() \n",
        "    tokens = []\n",
        "    for line in lines:\n",
        "        line = line.split()\n",
        "        if line[2] != 'sil': \n",
        "            tokens = [*tokens,' ',line[2]]\n",
        "    return char_to_num(tf.reshape(tf.strings.unicode_split(tokens, input_encoding='UTF-8'), (-1)))[1:]"
      ],
      "id": "9491bab5-6a3c-4f79-879a-8f9fbe73ae2e"
    },
    {
      "cell_type": "code",
      "execution_count": null,
      "metadata": {
        "id": "dd01ca9f-77fb-4643-a2aa-47dd82c5d66b"
      },
      "outputs": [],
      "source": [
        "def load_data(video_path: str): \n",
        "    video_path = bytes.decode(video_path.numpy())\n",
        "    alignment_path = video_path.replace(\"videos\",\"alignments\").replace(\"mpg\",\"align\")\n",
        "    frames = load_video(video_path) \n",
        "    alignments = load_alignments(alignment_path)\n",
        "    \n",
        "    return frames, alignments"
      ],
      "id": "dd01ca9f-77fb-4643-a2aa-47dd82c5d66b"
    },
    {
      "cell_type": "code",
      "execution_count": null,
      "metadata": {
        "id": "8cb7cc58-31ae-4904-a805-1177a82717d2"
      },
      "outputs": [],
      "source": [
        "test_path = './data/videos/s1/bbaf2n.mpg'"
      ],
      "id": "8cb7cc58-31ae-4904-a805-1177a82717d2"
    },
    {
      "cell_type": "markdown",
      "metadata": {
        "id": "ESxWtai8XcAy"
      },
      "source": [
        "alignments- "
      ],
      "id": "ESxWtai8XcAy"
    },
    {
      "cell_type": "code",
      "execution_count": null,
      "metadata": {
        "id": "eb602c71-8560-4f9e-b26b-08202febb937",
        "scrolled": true
      },
      "outputs": [],
      "source": [
        "frames, alignments = load_data(tf.convert_to_tensor(test_path))"
      ],
      "id": "eb602c71-8560-4f9e-b26b-08202febb937"
    },
    {
      "cell_type": "code",
      "execution_count": null,
      "metadata": {
        "colab": {
          "base_uri": "https://localhost:8080/",
          "height": 245
        },
        "id": "0e3184a1-6b02-4b4f-84a8-a0a65f951ea2",
        "outputId": "f7a65328-39ca-4d69-b304-cb0f4b8e9286"
      },
      "outputs": [
        {
          "output_type": "execute_result",
          "data": {
            "text/plain": [
              "<matplotlib.image.AxesImage at 0x7fd4703d9cf0>"
            ]
          },
          "metadata": {},
          "execution_count": 164
        },
        {
          "output_type": "display_data",
          "data": {
            "text/plain": [
              "<Figure size 640x480 with 1 Axes>"
            ],
            "image/png": "[encoded data removed]"
          },
          "metadata": {}
        }
      ],
      "source": [
        "plt.imshow(frames[19])"
      ],
      "id": "0e3184a1-6b02-4b4f-84a8-a0a65f951ea2"
    },
    {
      "cell_type": "code",
      "execution_count": null,
      "metadata": {
        "colab": {
          "base_uri": "https://localhost:8080/"
        },
        "id": "d7ec0833-d54b-4073-84cf-92d011c60ec1",
        "outputId": "d49acc24-15e5-467d-ef4c-2187b1754c59"
      },
      "outputs": [
        {
          "output_type": "execute_result",
          "data": {
            "text/plain": [
              "<tf.Tensor: shape=(21,), dtype=int64, numpy=\n",
              "array([ 2,  9, 14, 39,  2, 12, 21,  5, 39,  1, 20, 39,  6, 39, 20, 23, 15,\n",
              "       39, 14, 15, 23])>"
            ]
          },
          "metadata": {},
          "execution_count": 165
        }
      ],
      "source": [
        "alignments"
      ],
      "id": "d7ec0833-d54b-4073-84cf-92d011c60ec1"
    },
    {
      "cell_type": "code",
      "execution_count": null,
      "metadata": {
        "colab": {
          "base_uri": "https://localhost:8080/"
        },
        "id": "fe1ad370-b287-4b46-85a2-7c45b0bd9b10",
        "outputId": "21e8ca19-fe92-440e-abbb-ee75fe014aea"
      },
      "outputs": [
        {
          "output_type": "execute_result",
          "data": {
            "text/plain": [
              "<tf.Tensor: shape=(), dtype=string, numpy=b'bin blue at f two now'>"
            ]
          },
          "metadata": {},
          "execution_count": 166
        }
      ],
      "source": [
        "tf.strings.reduce_join([bytes.decode(x) for x in num_to_char(alignments.numpy()).numpy()])"
      ],
      "id": "fe1ad370-b287-4b46-85a2-7c45b0bd9b10"
    },
    {
      "cell_type": "code",
      "execution_count": null,
      "metadata": {
        "id": "6871031a-b0ba-4c76-a852-f6329b0f2606"
      },
      "outputs": [],
      "source": [
        "def mappable_function(path:str) ->List[str]:\n",
        "    result = tf.py_function(load_data, [path], (tf.float32, tf.int64))\n",
        "    return result"
      ],
      "id": "6871031a-b0ba-4c76-a852-f6329b0f2606"
    },
    {
      "cell_type": "markdown",
      "metadata": {
        "id": "c40a7eb4-0c3e-4eab-9291-5611cb68ce08"
      },
      "source": [
        "# 2. Create Data Pipeline"
      ],
      "id": "c40a7eb4-0c3e-4eab-9291-5611cb68ce08"
    },
    {
      "cell_type": "code",
      "execution_count": null,
      "metadata": {
        "id": "f066fea2-91b1-42ed-a67d-00566a1a53ff"
      },
      "outputs": [],
      "source": [
        "batch_size = 32\n",
        "train_percentage = 0.1\n",
        "\n",
        "data = tf.data.Dataset.list_files('./data/videos/*/*.mpg')\n",
        "data_count = len(data)\n",
        "preprocessed_data = data.shuffle(data_count, reshuffle_each_iteration=False).map(mappable_function).prefetch(tf.data.AUTOTUNE)\n",
        "\n",
        "train_count = int(train_percentage * data_count)\n",
        "\n",
        "# Added for split \n",
        "# Batch size is 2 hard coded, bigger batch sizes caused problems\n",
        "train = preprocessed_data.take(train_count).padded_batch(2, padded_shapes=([75,None,None,None],[40]))\n",
        "test = preprocessed_data.skip(train_count).padded_batch(2, padded_shapes=([75,None,None,None],[40]))\n",
        "\n",
        "# train = preprocessed_data.take(train_count)\n",
        "# test = preprocessed_data.skip(train_count)"
      ],
      "id": "f066fea2-91b1-42ed-a67d-00566a1a53ff"
    },
    {
      "cell_type": "code",
      "execution_count": null,
      "metadata": {
        "colab": {
          "base_uri": "https://localhost:8080/"
        },
        "id": "bdn3d-1k6Hl_",
        "outputId": "acff2341-3d17-4fbc-a200-e389403fbb85"
      },
      "outputs": [
        {
          "output_type": "stream",
          "name": "stdout",
          "text": [
            "train 50 test 450\n"
          ]
        }
      ],
      "source": [
        "print('train', len(train), 'test', len(test))"
      ],
      "id": "bdn3d-1k6Hl_"
    },
    {
      "cell_type": "code",
      "execution_count": null,
      "metadata": {
        "id": "5cf2d676-93a9-434c-b3c7-bdcc2577b2e7"
      },
      "outputs": [],
      "source": [
        "batch = train.as_numpy_iterator().next()"
      ],
      "id": "5cf2d676-93a9-434c-b3c7-bdcc2577b2e7"
    },
    {
      "cell_type": "code",
      "execution_count": null,
      "metadata": {
        "id": "IuXQeJG7njYO"
      },
      "outputs": [],
      "source": [
        "batched_videos, batched_alignments = batch"
      ],
      "id": "IuXQeJG7njYO"
    },
    {
      "cell_type": "code",
      "execution_count": null,
      "metadata": {
        "id": "oscmJxmEq3Eq"
      },
      "outputs": [],
      "source": [
        "sample_video = batched_videos[0]\n",
        "sample_alignments = batched_alignments[0]"
      ],
      "id": "oscmJxmEq3Eq"
    },
    {
      "cell_type": "code",
      "execution_count": null,
      "metadata": {
        "colab": {
          "base_uri": "https://localhost:8080/"
        },
        "id": "acf5eb4f-a0da-4a9a-bf24-af13e9cc2fbe",
        "outputId": "4e7671df-4792-4cf4-9746-bbbb9b7f828b"
      },
      "outputs": [
        {
          "output_type": "stream",
          "name": "stderr",
          "text": [
            "WARNING:imageio:Lossy conversion from float32 to uint8. Range [0.0, 9.776389122009277]. Convert image to uint8 prior to saving to suppress this warning.\n",
            "WARNING:imageio:Lossy conversion from float32 to uint8. Range [0.0, 9.776389122009277]. Convert image to uint8 prior to saving to suppress this warning.\n",
            "WARNING:imageio:Lossy conversion from float32 to uint8. Range [0.0, 9.776389122009277]. Convert image to uint8 prior to saving to suppress this warning.\n",
            "WARNING:imageio:Lossy conversion from float32 to uint8. Range [0.0, 9.776389122009277]. Convert image to uint8 prior to saving to suppress this warning.\n",
            "WARNING:imageio:Lossy conversion from float32 to uint8. Range [0.0, 9.776389122009277]. Convert image to uint8 prior to saving to suppress this warning.\n",
            "WARNING:imageio:Lossy conversion from float32 to uint8. Range [0.0, 9.776389122009277]. Convert image to uint8 prior to saving to suppress this warning.\n",
            "WARNING:imageio:Lossy conversion from float32 to uint8. Range [0.0, 9.776389122009277]. Convert image to uint8 prior to saving to suppress this warning.\n",
            "WARNING:imageio:Lossy conversion from float32 to uint8. Range [0.0, 9.776389122009277]. Convert image to uint8 prior to saving to suppress this warning.\n",
            "WARNING:imageio:Lossy conversion from float32 to uint8. Range [0.0, 9.776389122009277]. Convert image to uint8 prior to saving to suppress this warning.\n",
            "WARNING:imageio:Lossy conversion from float32 to uint8. Range [0.0, 9.776389122009277]. Convert image to uint8 prior to saving to suppress this warning.\n",
            "WARNING:imageio:Lossy conversion from float32 to uint8. Range [0.0, 9.776389122009277]. Convert image to uint8 prior to saving to suppress this warning.\n",
            "WARNING:imageio:Lossy conversion from float32 to uint8. Range [0.0, 9.776389122009277]. Convert image to uint8 prior to saving to suppress this warning.\n",
            "WARNING:imageio:Lossy conversion from float32 to uint8. Range [0.0, 9.776389122009277]. Convert image to uint8 prior to saving to suppress this warning.\n",
            "WARNING:imageio:Lossy conversion from float32 to uint8. Range [0.0, 9.776389122009277]. Convert image to uint8 prior to saving to suppress this warning.\n",
            "WARNING:imageio:Lossy conversion from float32 to uint8. Range [0.0, 9.776389122009277]. Convert image to uint8 prior to saving to suppress this warning.\n",
            "WARNING:imageio:Lossy conversion from float32 to uint8. Range [0.0, 9.776389122009277]. Convert image to uint8 prior to saving to suppress this warning.\n",
            "WARNING:imageio:Lossy conversion from float32 to uint8. Range [0.0, 9.776389122009277]. Convert image to uint8 prior to saving to suppress this warning.\n",
            "WARNING:imageio:Lossy conversion from float32 to uint8. Range [0.0, 9.776389122009277]. Convert image to uint8 prior to saving to suppress this warning.\n",
            "WARNING:imageio:Lossy conversion from float32 to uint8. Range [0.0, 9.776389122009277]. Convert image to uint8 prior to saving to suppress this warning.\n",
            "WARNING:imageio:Lossy conversion from float32 to uint8. Range [0.0, 9.776389122009277]. Convert image to uint8 prior to saving to suppress this warning.\n",
            "WARNING:imageio:Lossy conversion from float32 to uint8. Range [0.0, 9.776389122009277]. Convert image to uint8 prior to saving to suppress this warning.\n",
            "WARNING:imageio:Lossy conversion from float32 to uint8. Range [0.0, 9.776389122009277]. Convert image to uint8 prior to saving to suppress this warning.\n",
            "WARNING:imageio:Lossy conversion from float32 to uint8. Range [0.0, 9.776389122009277]. Convert image to uint8 prior to saving to suppress this warning.\n",
            "WARNING:imageio:Lossy conversion from float32 to uint8. Range [0.0, 9.776389122009277]. Convert image to uint8 prior to saving to suppress this warning.\n",
            "WARNING:imageio:Lossy conversion from float32 to uint8. Range [0.0, 9.776389122009277]. Convert image to uint8 prior to saving to suppress this warning.\n",
            "WARNING:imageio:Lossy conversion from float32 to uint8. Range [0.0, 9.776389122009277]. Convert image to uint8 prior to saving to suppress this warning.\n",
            "WARNING:imageio:Lossy conversion from float32 to uint8. Range [0.0, 9.776389122009277]. Convert image to uint8 prior to saving to suppress this warning.\n",
            "WARNING:imageio:Lossy conversion from float32 to uint8. Range [0.0, 9.776389122009277]. Convert image to uint8 prior to saving to suppress this warning.\n",
            "WARNING:imageio:Lossy conversion from float32 to uint8. Range [0.0, 9.776389122009277]. Convert image to uint8 prior to saving to suppress this warning.\n",
            "WARNING:imageio:Lossy conversion from float32 to uint8. Range [0.0, 9.776389122009277]. Convert image to uint8 prior to saving to suppress this warning.\n",
            "WARNING:imageio:Lossy conversion from float32 to uint8. Range [0.0, 9.776389122009277]. Convert image to uint8 prior to saving to suppress this warning.\n",
            "WARNING:imageio:Lossy conversion from float32 to uint8. Range [0.0, 9.776389122009277]. Convert image to uint8 prior to saving to suppress this warning.\n",
            "WARNING:imageio:Lossy conversion from float32 to uint8. Range [0.0, 9.776389122009277]. Convert image to uint8 prior to saving to suppress this warning.\n",
            "WARNING:imageio:Lossy conversion from float32 to uint8. Range [0.0, 9.776389122009277]. Convert image to uint8 prior to saving to suppress this warning.\n",
            "WARNING:imageio:Lossy conversion from float32 to uint8. Range [0.0, 9.776389122009277]. Convert image to uint8 prior to saving to suppress this warning.\n",
            "WARNING:imageio:Lossy conversion from float32 to uint8. Range [0.0, 9.776389122009277]. Convert image to uint8 prior to saving to suppress this warning.\n",
            "WARNING:imageio:Lossy conversion from float32 to uint8. Range [0.0, 9.776389122009277]. Convert image to uint8 prior to saving to suppress this warning.\n",
            "WARNING:imageio:Lossy conversion from float32 to uint8. Range [0.0, 9.776389122009277]. Convert image to uint8 prior to saving to suppress this warning.\n",
            "WARNING:imageio:Lossy conversion from float32 to uint8. Range [0.0, 9.776389122009277]. Convert image to uint8 prior to saving to suppress this warning.\n",
            "WARNING:imageio:Lossy conversion from float32 to uint8. Range [0.0, 9.776389122009277]. Convert image to uint8 prior to saving to suppress this warning.\n",
            "WARNING:imageio:Lossy conversion from float32 to uint8. Range [0.0, 9.776389122009277]. Convert image to uint8 prior to saving to suppress this warning.\n",
            "WARNING:imageio:Lossy conversion from float32 to uint8. Range [0.0, 9.776389122009277]. Convert image to uint8 prior to saving to suppress this warning.\n",
            "WARNING:imageio:Lossy conversion from float32 to uint8. Range [0.0, 9.776389122009277]. Convert image to uint8 prior to saving to suppress this warning.\n",
            "WARNING:imageio:Lossy conversion from float32 to uint8. Range [0.0, 9.776389122009277]. Convert image to uint8 prior to saving to suppress this warning.\n",
            "WARNING:imageio:Lossy conversion from float32 to uint8. Range [0.0, 9.776389122009277]. Convert image to uint8 prior to saving to suppress this warning.\n",
            "WARNING:imageio:Lossy conversion from float32 to uint8. Range [0.0, 9.776389122009277]. Convert image to uint8 prior to saving to suppress this warning.\n",
            "WARNING:imageio:Lossy conversion from float32 to uint8. Range [0.0, 9.776389122009277]. Convert image to uint8 prior to saving to suppress this warning.\n",
            "WARNING:imageio:Lossy conversion from float32 to uint8. Range [0.0, 9.776389122009277]. Convert image to uint8 prior to saving to suppress this warning.\n",
            "WARNING:imageio:Lossy conversion from float32 to uint8. Range [0.0, 9.776389122009277]. Convert image to uint8 prior to saving to suppress this warning.\n",
            "WARNING:imageio:Lossy conversion from float32 to uint8. Range [0.0, 9.776389122009277]. Convert image to uint8 prior to saving to suppress this warning.\n",
            "WARNING:imageio:Lossy conversion from float32 to uint8. Range [0.0, 9.776389122009277]. Convert image to uint8 prior to saving to suppress this warning.\n",
            "WARNING:imageio:Lossy conversion from float32 to uint8. Range [0.0, 9.776389122009277]. Convert image to uint8 prior to saving to suppress this warning.\n",
            "WARNING:imageio:Lossy conversion from float32 to uint8. Range [0.0, 9.776389122009277]. Convert image to uint8 prior to saving to suppress this warning.\n",
            "WARNING:imageio:Lossy conversion from float32 to uint8. Range [0.0, 9.776389122009277]. Convert image to uint8 prior to saving to suppress this warning.\n",
            "WARNING:imageio:Lossy conversion from float32 to uint8. Range [0.0, 9.776389122009277]. Convert image to uint8 prior to saving to suppress this warning.\n",
            "WARNING:imageio:Lossy conversion from float32 to uint8. Range [0.0, 9.776389122009277]. Convert image to uint8 prior to saving to suppress this warning.\n",
            "WARNING:imageio:Lossy conversion from float32 to uint8. Range [0.0, 9.776389122009277]. Convert image to uint8 prior to saving to suppress this warning.\n",
            "WARNING:imageio:Lossy conversion from float32 to uint8. Range [0.0, 9.776389122009277]. Convert image to uint8 prior to saving to suppress this warning.\n",
            "WARNING:imageio:Lossy conversion from float32 to uint8. Range [0.0, 9.776389122009277]. Convert image to uint8 prior to saving to suppress this warning.\n",
            "WARNING:imageio:Lossy conversion from float32 to uint8. Range [0.0, 9.776389122009277]. Convert image to uint8 prior to saving to suppress this warning.\n",
            "WARNING:imageio:Lossy conversion from float32 to uint8. Range [0.0, 9.776389122009277]. Convert image to uint8 prior to saving to suppress this warning.\n",
            "WARNING:imageio:Lossy conversion from float32 to uint8. Range [0.0, 9.776389122009277]. Convert image to uint8 prior to saving to suppress this warning.\n",
            "WARNING:imageio:Lossy conversion from float32 to uint8. Range [0.0, 9.776389122009277]. Convert image to uint8 prior to saving to suppress this warning.\n",
            "WARNING:imageio:Lossy conversion from float32 to uint8. Range [0.0, 9.776389122009277]. Convert image to uint8 prior to saving to suppress this warning.\n",
            "WARNING:imageio:Lossy conversion from float32 to uint8. Range [0.0, 9.776389122009277]. Convert image to uint8 prior to saving to suppress this warning.\n",
            "WARNING:imageio:Lossy conversion from float32 to uint8. Range [0.0, 9.776389122009277]. Convert image to uint8 prior to saving to suppress this warning.\n",
            "WARNING:imageio:Lossy conversion from float32 to uint8. Range [0.0, 9.776389122009277]. Convert image to uint8 prior to saving to suppress this warning.\n",
            "WARNING:imageio:Lossy conversion from float32 to uint8. Range [0.0, 9.776389122009277]. Convert image to uint8 prior to saving to suppress this warning.\n",
            "WARNING:imageio:Lossy conversion from float32 to uint8. Range [0.0, 9.776389122009277]. Convert image to uint8 prior to saving to suppress this warning.\n",
            "WARNING:imageio:Lossy conversion from float32 to uint8. Range [0.0, 9.776389122009277]. Convert image to uint8 prior to saving to suppress this warning.\n",
            "WARNING:imageio:Lossy conversion from float32 to uint8. Range [0.0, 9.776389122009277]. Convert image to uint8 prior to saving to suppress this warning.\n",
            "WARNING:imageio:Lossy conversion from float32 to uint8. Range [0.0, 9.776389122009277]. Convert image to uint8 prior to saving to suppress this warning.\n",
            "WARNING:imageio:Lossy conversion from float32 to uint8. Range [0.0, 9.776389122009277]. Convert image to uint8 prior to saving to suppress this warning.\n",
            "WARNING:imageio:Lossy conversion from float32 to uint8. Range [0.0, 9.776389122009277]. Convert image to uint8 prior to saving to suppress this warning.\n",
            "WARNING:imageio:Lossy conversion from float32 to uint8. Range [0.0, 9.776389122009277]. Convert image to uint8 prior to saving to suppress this warning.\n"
          ]
        }
      ],
      "source": [
        "imageio.mimsave('./animation.gif', sample_video, fps=10)"
      ],
      "id": "acf5eb4f-a0da-4a9a-bf24-af13e9cc2fbe"
    },
    {
      "cell_type": "code",
      "execution_count": null,
      "metadata": {
        "colab": {
          "base_uri": "https://localhost:8080/",
          "height": 245
        },
        "id": "c33a87a2-d5e0-4ec9-b174-73ebf41bf03a",
        "outputId": "b7f73c10-a9be-4674-fc45-21710f6de863"
      },
      "outputs": [
        {
          "output_type": "execute_result",
          "data": {
            "text/plain": [
              "<matplotlib.image.AxesImage at 0x7fd41aab9d50>"
            ]
          },
          "metadata": {},
          "execution_count": 174
        },
        {
          "output_type": "display_data",
          "data": {
            "text/plain": [
              "<Figure size 640x480 with 1 Axes>"
            ],
            "image/png": "[encoded data removed]"
          },
          "metadata": {}
        }
      ],
      "source": [
        "# 0:videos, 0: 1st video out of the batch,  0: return the first frame in the video \n",
        "plt.imshow(sample_video[35])"
      ],
      "id": "c33a87a2-d5e0-4ec9-b174-73ebf41bf03a"
    },
    {
      "cell_type": "code",
      "execution_count": null,
      "metadata": {
        "colab": {
          "base_uri": "https://localhost:8080/"
        },
        "id": "84593332-133c-4205-b7a6-8e235d5e2b3b",
        "outputId": "d9321bae-2449-420f-90fe-3826bd5525b3"
      },
      "outputs": [
        {
          "output_type": "execute_result",
          "data": {
            "text/plain": [
              "<tf.Tensor: shape=(), dtype=string, numpy=b'set red in a nine again'>"
            ]
          },
          "metadata": {},
          "execution_count": 175
        }
      ],
      "source": [
        "tf.strings.reduce_join([num_to_char(word) for word in sample_alignments])"
      ],
      "id": "84593332-133c-4205-b7a6-8e235d5e2b3b"
    },
    {
      "cell_type": "markdown",
      "metadata": {
        "id": "0f47733c-83bc-465c-b118-b198b492ad37"
      },
      "source": [
        "# 3. Design the Deep Neural Network"
      ],
      "id": "0f47733c-83bc-465c-b118-b198b492ad37"
    },
    {
      "cell_type": "code",
      "execution_count": null,
      "metadata": {
        "colab": {
          "base_uri": "https://localhost:8080/"
        },
        "id": "3f753ed2-70b9-4236-8c1c-08ca065dc8bf",
        "outputId": "8a5e8b14-f0df-46b6-fd1f-8160d5292660"
      },
      "outputs": [
        {
          "output_type": "execute_result",
          "data": {
            "text/plain": [
              "(75, 46, 140, 1)"
            ]
          },
          "metadata": {},
          "execution_count": 176
        }
      ],
      "source": [
        "input_shape = sample_video.shape\n",
        "input_shape"
      ],
      "id": "3f753ed2-70b9-4236-8c1c-08ca065dc8bf"
    },
    {
      "cell_type": "code",
      "execution_count": null,
      "metadata": {
        "id": "f9171056-a352-491a-9ed9-92b28ced268e"
      },
      "outputs": [],
      "source": [
        "model = Sequential()\n",
        "# Three layers of 3D/spatiotemporal convolutions.\n",
        "model.add(Conv3D(128, 3, input_shape=input_shape, padding='same'))\n",
        "model.add(Activation('relu'))\n",
        "model.add(MaxPool3D((1,2,2)))\n",
        "\n",
        "model.add(Conv3D(256, 3, padding='same'))\n",
        "model.add(Activation('relu'))\n",
        "model.add(MaxPool3D((1,2,2)))\n",
        "\n",
        "model.add(Conv3D(75, 3, padding='same'))\n",
        "model.add(Activation('relu'))\n",
        "model.add(MaxPool3D((1,2,2)))\n",
        "\n",
        "# Flattens each time slice independently.\n",
        "model.add(TimeDistributed(Flatten()))\n",
        "\n",
        "# Two layers of Bi-LSTM's.\n",
        "# return_sequences=True makes the the network output a sequence of predictions, one for each time step of the input sequence.\n",
        "model.add(Bidirectional(LSTM(128, kernel_initializer='Orthogonal', return_sequences=True)))\n",
        "# model.add(Dropout(.5))\n",
        "\n",
        "model.add(Bidirectional(LSTM(128, kernel_initializer='Orthogonal', return_sequences=True)))\n",
        "# model.add(Dropout(.5))\n",
        "\n",
        "# Linear transformation (dense layer) and output (softmax layer).\n",
        "model.add(Dense(char_to_num.vocabulary_size()+1, kernel_initializer='he_normal', activation='softmax'))"
      ],
      "id": "f9171056-a352-491a-9ed9-92b28ced268e"
    },
    {
      "cell_type": "code",
      "execution_count": null,
      "metadata": {
        "colab": {
          "base_uri": "https://localhost:8080/"
        },
        "collapsed": true,
        "id": "78851825-2bcd-42a9-b7f2-28bb5a6bf43a",
        "outputId": "41a05307-432b-4237-9df2-58ed7cf08127"
      },
      "outputs": [
        {
          "output_type": "stream",
          "name": "stdout",
          "text": [
            "Model: \"sequential_3\"\n",
            "_________________________________________________________________\n",
            " Layer (type)                Output Shape              Param #   \n",
            "=================================================================\n",
            " conv3d_9 (Conv3D)           (None, 75, 46, 140, 128)  3584      \n",
            "                                                                 \n",
            " activation_9 (Activation)   (None, 75, 46, 140, 128)  0         \n",
            "                                                                 \n",
            " max_pooling3d_9 (MaxPooling  (None, 75, 23, 70, 128)  0         \n",
            " 3D)                                                             \n",
            "                                                                 \n",
            " conv3d_10 (Conv3D)          (None, 75, 23, 70, 256)   884992    \n",
            "                                                                 \n",
            " activation_10 (Activation)  (None, 75, 23, 70, 256)   0         \n",
            "                                                                 \n",
            " max_pooling3d_10 (MaxPoolin  (None, 75, 11, 35, 256)  0         \n",
            " g3D)                                                            \n",
            "                                                                 \n",
            " conv3d_11 (Conv3D)          (None, 75, 11, 35, 75)    518475    \n",
            "                                                                 \n",
            " activation_11 (Activation)  (None, 75, 11, 35, 75)    0         \n",
            "                                                                 \n",
            " max_pooling3d_11 (MaxPoolin  (None, 75, 5, 17, 75)    0         \n",
            " g3D)                                                            \n",
            "                                                                 \n",
            " time_distributed_3 (TimeDis  (None, 75, 6375)         0         \n",
            " tributed)                                                       \n",
            "                                                                 \n",
            " bidirectional_6 (Bidirectio  (None, 75, 256)          6660096   \n",
            " nal)                                                            \n",
            "                                                                 \n",
            " bidirectional_7 (Bidirectio  (None, 75, 256)          394240    \n",
            " nal)                                                            \n",
            "                                                                 \n",
            " dense_3 (Dense)             (None, 75, 41)            10537     \n",
            "                                                                 \n",
            "=================================================================\n",
            "Total params: 8,471,924\n",
            "Trainable params: 8,471,924\n",
            "Non-trainable params: 0\n",
            "_________________________________________________________________\n"
          ]
        }
      ],
      "source": [
        "model.summary()"
      ],
      "id": "78851825-2bcd-42a9-b7f2-28bb5a6bf43a"
    },
    {
      "cell_type": "code",
      "execution_count": null,
      "metadata": {
        "colab": {
          "base_uri": "https://localhost:8080/"
        },
        "id": "e5c2eae0-c359-41a4-97a0-75c44dccb7d1",
        "outputId": "cc19bc7b-1570-464f-c72a-1839169f2d00"
      },
      "outputs": [
        {
          "output_type": "stream",
          "name": "stderr",
          "text": [
            "WARNING:tensorflow:6 out of the last 6 calls to <function Model.make_predict_function.<locals>.predict_function at 0x7fd47482cdc0> triggered tf.function retracing. Tracing is expensive and the excessive number of tracings could be due to (1) creating @tf.function repeatedly in a loop, (2) passing tensors with different shapes, (3) passing Python objects instead of tensors. For (1), please define your @tf.function outside of the loop. For (2), @tf.function has reduce_retracing=True option that can avoid unnecessary retracing. For (3), please refer to https://www.tensorflow.org/guide/function#controlling_retracing and https://www.tensorflow.org/api_docs/python/tf/function for  more details.\n"
          ]
        },
        {
          "output_type": "stream",
          "name": "stdout",
          "text": [
            "1/1 [==============================] - 1s 1s/step\n"
          ]
        }
      ],
      "source": [
        "yhat = model.predict(np.expand_dims(sample_video, axis=0))[0]"
      ],
      "id": "e5c2eae0-c359-41a4-97a0-75c44dccb7d1"
    },
    {
      "cell_type": "code",
      "execution_count": null,
      "metadata": {
        "colab": {
          "base_uri": "https://localhost:8080/"
        },
        "id": "ffdc7319-0d69-4f7e-a6d4-ce72deb81c0b",
        "outputId": "1766192e-7b5c-4df2-98a1-f8e1d064f55c"
      },
      "outputs": [
        {
          "output_type": "execute_result",
          "data": {
            "text/plain": [
              "<tf.Tensor: shape=(), dtype=string, numpy=b\"333333333333333'jjjjjjjjbbbbbbbbbbbbbbbbbbbbbbbbbbbbbbbbb33333333jjjjjjjjjj\">"
            ]
          },
          "metadata": {},
          "execution_count": 180
        }
      ],
      "source": [
        "tf.strings.reduce_join([num_to_char(x) for x in tf.argmax(yhat,axis=1)])"
      ],
      "id": "ffdc7319-0d69-4f7e-a6d4-ce72deb81c0b"
    },
    {
      "cell_type": "code",
      "execution_count": null,
      "metadata": {
        "colab": {
          "base_uri": "https://localhost:8080/"
        },
        "id": "6ed47531-8317-4255-9a12-b757642258e6",
        "outputId": "7e8a0ea1-2821-48f4-f5ea-f63ca3fed970"
      },
      "outputs": [
        {
          "output_type": "execute_result",
          "data": {
            "text/plain": [
              "<tf.Tensor: shape=(), dtype=string, numpy=b\"333333333333333'jjjjjjjjbbbbbbbbbbbbbbbbbbbbbbbbbbbbbbbbb33333333jjjjjjjjjj\">"
            ]
          },
          "metadata": {},
          "execution_count": 181
        }
      ],
      "source": [
        "tf.strings.reduce_join([num_to_char(tf.argmax(x)) for x in yhat])"
      ],
      "id": "6ed47531-8317-4255-9a12-b757642258e6"
    },
    {
      "cell_type": "code",
      "execution_count": null,
      "metadata": {
        "colab": {
          "base_uri": "https://localhost:8080/"
        },
        "id": "7c37b9b9-5298-4038-9c33-5031d1b457f0",
        "outputId": "b8d33c44-430b-454b-f56e-8fc0ac073141"
      },
      "outputs": [
        {
          "output_type": "execute_result",
          "data": {
            "text/plain": [
              "(None, 75, 46, 140, 1)"
            ]
          },
          "metadata": {},
          "execution_count": 182
        }
      ],
      "source": [
        "model.input_shape"
      ],
      "id": "7c37b9b9-5298-4038-9c33-5031d1b457f0"
    },
    {
      "cell_type": "code",
      "execution_count": null,
      "metadata": {
        "colab": {
          "base_uri": "https://localhost:8080/"
        },
        "id": "98b316a4-5322-4782-8e36-4b3c1a696d85",
        "outputId": "5505b915-5c78-4f83-c6b5-40e98a87e2a1"
      },
      "outputs": [
        {
          "output_type": "execute_result",
          "data": {
            "text/plain": [
              "(None, 75, 41)"
            ]
          },
          "metadata": {},
          "execution_count": 183
        }
      ],
      "source": [
        "model.output_shape"
      ],
      "id": "98b316a4-5322-4782-8e36-4b3c1a696d85"
    },
    {
      "cell_type": "markdown",
      "metadata": {
        "id": "2ec02176-5c26-46c3-aff7-8352e6563c7d"
      },
      "source": [
        "# 4. Setup Training Options and Train"
      ],
      "id": "2ec02176-5c26-46c3-aff7-8352e6563c7d"
    },
    {
      "cell_type": "code",
      "execution_count": null,
      "metadata": {
        "id": "ab015fd0-7fb4-4d5d-9fa2-30a05dbd515a"
      },
      "outputs": [],
      "source": [
        "def scheduler(epoch, lr):\n",
        "    if epoch < 30:\n",
        "        return lr\n",
        "    else:\n",
        "        return lr * tf.math.exp(-0.1)"
      ],
      "id": "ab015fd0-7fb4-4d5d-9fa2-30a05dbd515a"
    },
    {
      "cell_type": "code",
      "execution_count": null,
      "metadata": {
        "id": "c564d5c9-db54-4e88-b311-9aeab7fb3e69"
      },
      "outputs": [],
      "source": [
        "def CTCLoss(y_true, y_pred):\n",
        "    batch_len = tf.cast(tf.shape(y_true)[0], dtype=\"int64\")\n",
        "    input_length = tf.cast(tf.shape(y_pred)[1], dtype=\"int64\")\n",
        "    label_length = tf.cast(tf.shape(y_true)[1], dtype=\"int64\")\n",
        "\n",
        "    input_length = input_length * tf.ones(shape=(batch_len, 1), dtype=\"int64\")\n",
        "    label_length = label_length * tf.ones(shape=(batch_len, 1), dtype=\"int64\")\n",
        "\n",
        "    loss = tf.keras.backend.ctc_batch_cost(y_true, y_pred, input_length, label_length)\n",
        "    return loss"
      ],
      "id": "c564d5c9-db54-4e88-b311-9aeab7fb3e69"
    },
    {
      "cell_type": "code",
      "execution_count": null,
      "metadata": {
        "id": "kCEzuX85fp2S"
      },
      "outputs": [],
      "source": [
        "def calculate_accuracy(y_true, y_pred):\n",
        "    # Convert y_pred to label sequences by using argmax\n",
        "    pred_labels, _ = tf.keras.backend.ctc_decode(y_pred, tf.shape(y_pred)[1])\n",
        "\n",
        "    # Convert sparse tensor y_true to dense tensor for comparison\n",
        "    y_true = tf.sparse.to_dense(y_true)\n",
        "\n",
        "    # Compare the predicted labels with true labels\n",
        "    matches = tf.equal(pred_labels, y_true)\n",
        "\n",
        "    # Calculate accuracy by taking the mean of matches\n",
        "    accuracy = tf.reduce_mean(tf.cast(matches, tf.float32))\n",
        "    \n",
        "    return accuracy"
      ],
      "id": "kCEzuX85fp2S"
    },
    {
      "cell_type": "code",
      "execution_count": null,
      "metadata": {
        "id": "a26dc3fc-a19c-4378-bd8c-e2b597a1d15c"
      },
      "outputs": [],
      "source": [
        "class ProduceExample(tf.keras.callbacks.Callback): \n",
        "    def __init__(self, dataset) -> None: \n",
        "        self.dataset = dataset.as_numpy_iterator()\n",
        "    \n",
        "    def on_epoch_end(self, epoch, logs=None) -> None:\n",
        "          data = self.dataset.next()\n",
        "          yhat = self.model.predict(data[0])\n",
        "          decoded = tf.keras.backend.ctc_decode(yhat, [75,75], greedy=False)[0][0].numpy()\n",
        "          for x in range(len(yhat)):           \n",
        "              print('Original:', tf.strings.reduce_join(num_to_char(data[1][x])).numpy().decode('utf-8'))\n",
        "              print('Prediction:', tf.strings.reduce_join(num_to_char(decoded[x])).numpy().decode('utf-8'))\n",
        "              print('~'*100)"
      ],
      "id": "a26dc3fc-a19c-4378-bd8c-e2b597a1d15c"
    },
    {
      "cell_type": "code",
      "execution_count": null,
      "metadata": {
        "id": "04be90d8-2482-46f9-b513-d5f4f8001c7e"
      },
      "outputs": [],
      "source": [
        "model.compile(optimizer=Adam(learning_rate=0.0003), loss=CTCLoss)"
      ],
      "id": "04be90d8-2482-46f9-b513-d5f4f8001c7e"
    },
    {
      "cell_type": "code",
      "execution_count": null,
      "metadata": {
        "id": "eab49367-3f1e-4464-ae76-dbd07549d97e"
      },
      "outputs": [],
      "source": [
        "checkpoint_callback = ModelCheckpoint(os.path.join('models','checkpoint'), monitor='loss', save_weights_only=True) "
      ],
      "id": "eab49367-3f1e-4464-ae76-dbd07549d97e"
    },
    {
      "cell_type": "code",
      "execution_count": null,
      "metadata": {
        "id": "e085a632-d464-46ef-8777-959cad4adb2c"
      },
      "outputs": [],
      "source": [
        "schedule_callback = LearningRateScheduler(scheduler)"
      ],
      "id": "e085a632-d464-46ef-8777-959cad4adb2c"
    },
    {
      "cell_type": "code",
      "execution_count": null,
      "metadata": {
        "id": "4oGLWLoWwfiN"
      },
      "outputs": [],
      "source": [
        "example_callback = ProduceExample(test)"
      ],
      "id": "4oGLWLoWwfiN"
    },
    {
      "cell_type": "code",
      "execution_count": null,
      "metadata": {
        "colab": {
          "base_uri": "https://localhost:8080/"
        },
        "id": "8ffba483-aa61-4bbe-a15f-a73e1ddf097c",
        "outputId": "4caf78b8-93c9-4647-8f96-5b582178be66"
      },
      "outputs": [
        {
          "output_type": "stream",
          "name": "stdout",
          "text": [
            "Epoch 1/55\n",
            "50/50 [==============================] - 31s 501ms/step - loss: 111.2253 - lr: 3.0000e-04\n",
            "Epoch 2/55\n",
            "50/50 [==============================] - 25s 505ms/step - loss: 83.7926 - lr: 3.0000e-04\n",
            "Epoch 3/55\n",
            "50/50 [==============================] - 25s 505ms/step - loss: 76.2428 - lr: 3.0000e-04\n",
            "Epoch 4/55\n",
            "50/50 [==============================] - 25s 507ms/step - loss: 74.5173 - lr: 3.0000e-04\n",
            "Epoch 5/55\n",
            "50/50 [==============================] - 25s 505ms/step - loss: 71.5609 - lr: 3.0000e-04\n",
            "Epoch 6/55\n",
            "50/50 [==============================] - 25s 506ms/step - loss: 70.9817 - lr: 3.0000e-04\n",
            "Epoch 7/55\n",
            "50/50 [==============================] - 26s 511ms/step - loss: 70.8317 - lr: 3.0000e-04\n",
            "Epoch 8/55\n",
            "50/50 [==============================] - 26s 523ms/step - loss: 69.4352 - lr: 3.0000e-04\n",
            "Epoch 9/55\n",
            "50/50 [==============================] - 26s 515ms/step - loss: 68.8673 - lr: 3.0000e-04\n",
            "Epoch 10/55\n",
            "50/50 [==============================] - 26s 516ms/step - loss: 69.1346 - lr: 3.0000e-04\n",
            "Epoch 11/55\n",
            "50/50 [==============================] - 25s 510ms/step - loss: 67.5519 - lr: 3.0000e-04\n",
            "Epoch 12/55\n",
            "50/50 [==============================] - 25s 509ms/step - loss: 66.3035 - lr: 3.0000e-04\n",
            "Epoch 13/55\n",
            "50/50 [==============================] - 25s 505ms/step - loss: 66.5112 - lr: 3.0000e-04\n",
            "Epoch 14/55\n",
            "50/50 [==============================] - 25s 504ms/step - loss: 64.4772 - lr: 3.0000e-04\n",
            "Epoch 15/55\n",
            "50/50 [==============================] - 25s 504ms/step - loss: 63.4406 - lr: 3.0000e-04\n",
            "Epoch 16/55\n",
            "50/50 [==============================] - 25s 505ms/step - loss: 63.1669 - lr: 3.0000e-04\n",
            "Epoch 17/55\n",
            "50/50 [==============================] - 25s 503ms/step - loss: 62.3404 - lr: 3.0000e-04\n",
            "Epoch 18/55\n",
            "50/50 [==============================] - 25s 504ms/step - loss: 61.7460 - lr: 3.0000e-04\n",
            "Epoch 19/55\n",
            "50/50 [==============================] - 25s 502ms/step - loss: 61.6443 - lr: 3.0000e-04\n",
            "Epoch 20/55\n",
            "50/50 [==============================] - 25s 510ms/step - loss: 60.5939 - lr: 3.0000e-04\n",
            "Epoch 21/55\n",
            "50/50 [==============================] - 25s 504ms/step - loss: 60.7920 - lr: 3.0000e-04\n",
            "Epoch 22/55\n",
            "50/50 [==============================] - 25s 502ms/step - loss: 58.6378 - lr: 3.0000e-04\n",
            "Epoch 23/55\n",
            "50/50 [==============================] - 25s 504ms/step - loss: 59.6357 - lr: 3.0000e-04\n",
            "Epoch 24/55\n",
            "50/50 [==============================] - 25s 505ms/step - loss: 58.0547 - lr: 3.0000e-04\n",
            "Epoch 25/55\n",
            "50/50 [==============================] - 25s 503ms/step - loss: 58.7802 - lr: 3.0000e-04\n",
            "Epoch 26/55\n",
            "50/50 [==============================] - 25s 504ms/step - loss: 57.9873 - lr: 3.0000e-04\n",
            "Epoch 27/55\n",
            "50/50 [==============================] - 25s 503ms/step - loss: 57.4811 - lr: 3.0000e-04\n",
            "Epoch 28/55\n",
            "50/50 [==============================] - 25s 503ms/step - loss: 56.6984 - lr: 3.0000e-04\n",
            "Epoch 29/55\n",
            "50/50 [==============================] - 25s 502ms/step - loss: 56.4376 - lr: 3.0000e-04\n",
            "Epoch 30/55\n",
            "50/50 [==============================] - 25s 504ms/step - loss: 55.3830 - lr: 3.0000e-04\n",
            "Epoch 31/55\n",
            "50/50 [==============================] - 25s 503ms/step - loss: 55.6609 - lr: 2.7145e-04\n",
            "Epoch 32/55\n",
            "50/50 [==============================] - 25s 504ms/step - loss: 56.2618 - lr: 2.4562e-04\n",
            "Epoch 33/55\n",
            "50/50 [==============================] - 25s 504ms/step - loss: 55.8364 - lr: 2.2225e-04\n",
            "Epoch 34/55\n",
            "50/50 [==============================] - 25s 504ms/step - loss: 54.6145 - lr: 2.0110e-04\n",
            "Epoch 35/55\n",
            "50/50 [==============================] - 25s 503ms/step - loss: 54.5483 - lr: 1.8196e-04\n",
            "Epoch 36/55\n",
            "50/50 [==============================] - 25s 505ms/step - loss: 54.8448 - lr: 1.6464e-04\n",
            "Epoch 37/55\n",
            "50/50 [==============================] - 25s 503ms/step - loss: 54.3661 - lr: 1.4898e-04\n",
            "Epoch 38/55\n",
            "50/50 [==============================] - 25s 505ms/step - loss: 53.7078 - lr: 1.3480e-04\n",
            "Epoch 39/55\n",
            "50/50 [==============================] - 25s 505ms/step - loss: 53.9637 - lr: 1.2197e-04\n",
            "Epoch 40/55\n",
            "50/50 [==============================] - 25s 503ms/step - loss: 54.3251 - lr: 1.1036e-04\n",
            "Epoch 41/55\n",
            "50/50 [==============================] - 25s 505ms/step - loss: 54.2031 - lr: 9.9861e-05\n",
            "Epoch 42/55\n",
            "50/50 [==============================] - 25s 506ms/step - loss: 52.2883 - lr: 9.0358e-05\n",
            "Epoch 43/55\n",
            "50/50 [==============================] - 25s 504ms/step - loss: 52.7892 - lr: 8.1759e-05\n",
            "Epoch 44/55\n",
            "50/50 [==============================] - 25s 507ms/step - loss: 53.2528 - lr: 7.3979e-05\n",
            "Epoch 45/55\n",
            "50/50 [==============================] - 25s 505ms/step - loss: 52.8751 - lr: 6.6939e-05\n",
            "Epoch 46/55\n",
            "50/50 [==============================] - 26s 512ms/step - loss: 52.8175 - lr: 6.0569e-05\n",
            "Epoch 47/55\n",
            "50/50 [==============================] - 26s 522ms/step - loss: 53.3237 - lr: 5.4805e-05\n",
            "Epoch 48/55\n",
            "50/50 [==============================] - 26s 515ms/step - loss: 52.8749 - lr: 4.9590e-05\n",
            "Epoch 49/55\n",
            "50/50 [==============================] - 26s 515ms/step - loss: 51.7759 - lr: 4.4871e-05\n",
            "Epoch 50/55\n",
            "50/50 [==============================] - 25s 509ms/step - loss: 51.8409 - lr: 4.0601e-05\n",
            "Epoch 51/55\n",
            "50/50 [==============================] - 25s 506ms/step - loss: 53.4383 - lr: 3.6737e-05\n",
            "Epoch 52/55\n",
            "50/50 [==============================] - 25s 505ms/step - loss: 52.7852 - lr: 3.3241e-05\n",
            "Epoch 53/55\n",
            "50/50 [==============================] - 25s 503ms/step - loss: 52.7141 - lr: 3.0078e-05\n",
            "Epoch 54/55\n",
            "50/50 [==============================] - 25s 504ms/step - loss: 51.8909 - lr: 2.7215e-05\n",
            "Epoch 55/55\n",
            "50/50 [==============================] - 25s 504ms/step - loss: 52.6076 - lr: 2.4625e-05\n"
          ]
        },
        {
          "output_type": "execute_result",
          "data": {
            "text/plain": [
              "<keras.callbacks.History at 0x7fd4746c0100>"
            ]
          },
          "metadata": {},
          "execution_count": 192
        }
      ],
      "source": [
        "# temporarily take only the first batch\n",
        "model.fit(train, epochs=55, callbacks=[checkpoint_callback, schedule_callback])"
      ],
      "id": "8ffba483-aa61-4bbe-a15f-a73e1ddf097c"
    },
    {
      "cell_type": "code",
      "execution_count": null,
      "metadata": {
        "colab": {
          "base_uri": "https://localhost:8080/"
        },
        "id": "f5llNrlW7C0n",
        "outputId": "3231d301-60c2-4500-f160-1a74e6e52d20"
      },
      "outputs": [
        {
          "output_type": "stream",
          "name": "stdout",
          "text": [
            "450/450 [==============================] - 235s 470ms/step - loss: 52.5476\n"
          ]
        }
      ],
      "source": [
        "loss = model.evaluate(test)"
      ],
      "id": "f5llNrlW7C0n"
    },
    {
      "cell_type": "markdown",
      "metadata": {
        "id": "fa8ee94b-89f7-4733-8a0c-a86f86ff590a"
      },
      "source": [
        "# 5. Make a Prediction "
      ],
      "id": "fa8ee94b-89f7-4733-8a0c-a86f86ff590a"
    },
    {
      "cell_type": "code",
      "execution_count": null,
      "metadata": {
        "colab": {
          "base_uri": "https://localhost:8080/"
        },
        "id": "OlmU-CmIFjn-",
        "outputId": "43eb4c38-9aea-42a6-f414-344e372b8455"
      },
      "outputs": [
        {
          "output_type": "execute_result",
          "data": {
            "text/plain": [
              "450"
            ]
          },
          "metadata": {},
          "execution_count": 194
        }
      ],
      "source": [
        "len(test)"
      ],
      "id": "OlmU-CmIFjn-"
    },
    {
      "cell_type": "code",
      "execution_count": null,
      "metadata": {
        "id": "7f8d689f-b7bb-443c-9b88-e40c1d800828"
      },
      "outputs": [],
      "source": [
        "test_data = test.as_numpy_iterator()"
      ],
      "id": "7f8d689f-b7bb-443c-9b88-e40c1d800828"
    },
    {
      "cell_type": "code",
      "execution_count": null,
      "metadata": {
        "id": "38546dc2-bee9-4837-864b-8a884df40ad7"
      },
      "outputs": [],
      "source": [
        "sample = test_data.next()"
      ],
      "id": "38546dc2-bee9-4837-864b-8a884df40ad7"
    },
    {
      "cell_type": "code",
      "execution_count": null,
      "metadata": {
        "colab": {
          "base_uri": "https://localhost:8080/"
        },
        "id": "a43621f0-229d-4c0d-9554-9c3a3da9c61a",
        "outputId": "4713c4ba-c09d-4482-e2d8-0e0c15897469"
      },
      "outputs": [
        {
          "output_type": "stream",
          "name": "stdout",
          "text": [
            "1/1 [==============================] - 2s 2s/step\n"
          ]
        }
      ],
      "source": [
        "yhat = model.predict(sample[0])"
      ],
      "id": "a43621f0-229d-4c0d-9554-9c3a3da9c61a"
    },
    {
      "cell_type": "code",
      "execution_count": null,
      "metadata": {
        "colab": {
          "base_uri": "https://localhost:8080/"
        },
        "id": "ea462999-f87e-4a7e-a057-5be7b6d8f7d5",
        "outputId": "fa7f3e63-91c7-44af-bdb1-3315075e6ecf"
      },
      "outputs": [
        {
          "output_type": "stream",
          "name": "stdout",
          "text": [
            "~~~~~~~~~~~~~~~~~~~~~~~~~~~~~~~~~~~~~~~~~~~~~~~~~~~~~~~~~~~~~~~~~~~~~~~~~~~~~~~~~~~~~~~~~~~~~~~~~~~~ REAL TEXT\n"
          ]
        },
        {
          "output_type": "execute_result",
          "data": {
            "text/plain": [
              "[<tf.Tensor: shape=(), dtype=string, numpy=b'bin white with h five again'>,\n",
              " <tf.Tensor: shape=(), dtype=string, numpy=b'bin blue with m five soon'>]"
            ]
          },
          "metadata": {},
          "execution_count": 198
        }
      ],
      "source": [
        "print('~'*100, 'REAL TEXT')\n",
        "[tf.strings.reduce_join([num_to_char(word) for word in sentence]) for sentence in sample[1]]"
      ],
      "id": "ea462999-f87e-4a7e-a057-5be7b6d8f7d5"
    },
    {
      "cell_type": "code",
      "execution_count": null,
      "metadata": {
        "id": "YDhpxY7NfHw1"
      },
      "outputs": [],
      "source": [
        "yhat_tensor = tf.convert_to_tensor(yhat)"
      ],
      "id": "YDhpxY7NfHw1"
    },
    {
      "cell_type": "code",
      "execution_count": null,
      "metadata": {
        "id": "82bd4c10-dd6e-411e-834b-2a3b43fd12c5"
      },
      "outputs": [],
      "source": [
        "decoded = tf.keras.backend.ctc_decode(yhat, input_length=[75,75], greedy=True)[0][0].numpy()"
      ],
      "id": "82bd4c10-dd6e-411e-834b-2a3b43fd12c5"
    },
    {
      "cell_type": "code",
      "execution_count": null,
      "metadata": {
        "colab": {
          "base_uri": "https://localhost:8080/"
        },
        "id": "5d68ac46-c90b-4eab-a709-f19aee569ff5",
        "outputId": "65fe02dc-009d-480f-9b22-5a9ecdda357f"
      },
      "outputs": [
        {
          "output_type": "stream",
          "name": "stdout",
          "text": [
            "~~~~~~~~~~~~~~~~~~~~~~~~~~~~~~~~~~~~~~~~~~~~~~~~~~~~~~~~~~~~~~~~~~~~~~~~~~~~~~~~~~~~~~~~~~~~~~~~~~~~ PREDICTIONS\n"
          ]
        },
        {
          "output_type": "execute_result",
          "data": {
            "text/plain": [
              "[<tf.Tensor: shape=(), dtype=string, numpy=b'la re it e aon'>,\n",
              " <tf.Tensor: shape=(), dtype=string, numpy=b'la re it e aon'>]"
            ]
          },
          "metadata": {},
          "execution_count": 201
        }
      ],
      "source": [
        "print('~'*100, 'PREDICTIONS')\n",
        "[tf.strings.reduce_join([num_to_char(word) for word in sentence]) for sentence in decoded]"
      ],
      "id": "5d68ac46-c90b-4eab-a709-f19aee569ff5"
    },
    {
      "cell_type": "code",
      "source": [
        "model.save_weights(\"adi\")"
      ],
      "metadata": {
        "id": "x_adpiM0riQw"
      },
      "id": "x_adpiM0riQw",
      "execution_count": null,
      "outputs": []
    }
  ],
  "metadata": {
    "accelerator": "GPU",
    "colab": {
      "machine_shape": "hm",
      "provenance": [],
      "gpuClass": "premium",
      "include_colab_link": true
    },
    "gpuClass": "premium",
    "kernelspec": {
      "display_name": "Python 3",
      "name": "python3"
    },
    "language_info": {
      "name": "python"
    }
  },
  "nbformat": 4,
  "nbformat_minor": 5
}